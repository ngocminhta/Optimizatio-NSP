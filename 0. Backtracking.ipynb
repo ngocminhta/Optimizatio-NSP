{
 "cells": [
  {
   "cell_type": "markdown",
   "id": "da2cc3d6-3346-4f66-822c-344141e1865e",
   "metadata": {
    "tags": []
   },
   "source": [
    "### *IT3052E - Fundamentals of Optimization*\n",
    "# **Mini Project 18 - Nurse Scheduling Problem**\n",
    "#### **Techniques used**:\n",
    "* Backtracking,\n",
    "* Constraint Programming,\n",
    "* Linear Programming,\n",
    "* Local Search, and\n",
    "* Meta-heuristics (Genetic Algorithm)."
   ]
  },
  {
   "cell_type": "markdown",
   "id": "7ad9cb35-6a3f-4017-aea9-e5a25961b869",
   "metadata": {
    "tags": []
   },
   "source": [
    "#### * ***Import pandas for printing solution***"
   ]
  },
  {
   "cell_type": "code",
   "execution_count": null,
   "id": "e7beacae-bd8b-4200-b226-f3ddfc727fff",
   "metadata": {
    "tags": []
   },
   "outputs": [],
   "source": [
    "import pandas as pd"
   ]
  },
  {
   "cell_type": "markdown",
   "id": "5c9d0791-54fe-4aed-966b-d70198ccaed8",
   "metadata": {
    "tags": []
   },
   "source": [
    "## 0. Backtracking"
   ]
  },
  {
   "cell_type": "markdown",
   "id": "d2fa0ec2-365e-4927-959e-14f0c2bb0506",
   "metadata": {},
   "source": [
    "### 0.1. Read data from files"
   ]
  },
  {
   "cell_type": "code",
   "execution_count": null,
   "id": "099678cf-c068-4c69-bfee-54a380da1f2e",
   "metadata": {},
   "outputs": [],
   "source": [
    "with open('SampleData/testCase1/0.txt') as file:\n",
    "  N, D, a, b = [int(q) for q in file.readline().split()]\n",
    "  dayoff = [[0 for d in range(D)] for n in range(N)]\n",
    "  for n in range(N):\n",
    "    for d in [int(h) for h in file.readline().split()]:\n",
    "      if d != -1:\n",
    "            dayoff[n][d-1] = 1"
   ]
  },
  {
   "cell_type": "markdown",
   "id": "19c09ed2-cc06-4e75-9a5c-344e6bf1ddeb",
   "metadata": {},
   "source": [
    "### 0.2. Generate constraints"
   ]
  },
  {
   "cell_type": "code",
   "execution_count": null,
   "id": "a1e876d2-d91f-494f-a704-7d2b8a80c093",
   "metadata": {},
   "outputs": [],
   "source": [
    "def nightShift(arr,N,D):\n",
    "\tfor i in range(0,N):\n",
    "\t\tfor j in range(0,D-1):\n",
    "\t\t\tif arr[i*D+j]==4 and (arr[i*D+j+1]!=0 or arr[i*D+j+1]!=-1):\n",
    "\t\t\t\treturn False\n",
    "\treturn True\n",
    "\t\t\t\t\n",
    "\t\t   \n",
    "def limitNurse(arr,D,alpha,beta):\n",
    "    for i in range(0,D):\n",
    "        lst=[0,0,0,0]\n",
    "        for j in range(i,len(arr),D):\n",
    "            if arr[j] !=0 and arr[j]!=-1:\n",
    "                lst[arr[j]-1]+=1\n",
    "        for k in lst:\n",
    "            if k < alpha or k > beta:\n",
    "                return False\n",
    "    return True"
   ]
  },
  {
   "cell_type": "markdown",
   "id": "c537dcd9-9868-4b56-b92c-d958dd4835e3",
   "metadata": {},
   "source": [
    "### 0.4. Generate all solutions"
   ]
  },
  {
   "cell_type": "code",
   "execution_count": null,
   "id": "0009bc06-fabd-4671-8b76-13b25932a8ea",
   "metadata": {},
   "outputs": [],
   "source": [
    "def generateAllSolutions(n, arr, i, N, D, alpha, beta):\n",
    "    if i == n:\n",
    "        if nightShift(arr,N,D) == False or limitNurse(arr, D, alpha, beta) == False:\n",
    "            return\n",
    "        print(*arr)\n",
    "        return\n",
    "    \n",
    "    for j in range(5):\n",
    "        if arr[i] !=-1:\n",
    "            arr[i] = j\n",
    "            generateAllSolutions(n, arr, i+1, N, D, alpha, beta)\n",
    "        else:\n",
    "            generateAllSolutions(n, arr, i+2, N, D, alpha, beta)\n",
    "            \n",
    "generateAllSolutions(N*D, dayoff, 0, N, D, a, b)"
   ]
  },
  {
   "cell_type": "code",
   "execution_count": null,
   "id": "1dc546d3-82da-43bc-9453-9ae2365eb798",
   "metadata": {},
   "outputs": [],
   "source": []
  }
 ],
 "metadata": {
  "environment": {
   "kernel": "python3",
   "name": "common-cpu.m103",
   "type": "gcloud",
   "uri": "gcr.io/deeplearning-platform-release/base-cpu:m103"
  },
  "kernelspec": {
   "display_name": "Python 3",
   "language": "python",
   "name": "python3"
  },
  "language_info": {
   "codemirror_mode": {
    "name": "ipython",
    "version": 3
   },
   "file_extension": ".py",
   "mimetype": "text/x-python",
   "name": "python",
   "nbconvert_exporter": "python",
   "pygments_lexer": "ipython3",
   "version": "3.7.12"
  }
 },
 "nbformat": 4,
 "nbformat_minor": 5
}
