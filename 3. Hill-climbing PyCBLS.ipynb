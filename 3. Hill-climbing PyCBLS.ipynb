{
 "cells": [
  {
   "cell_type": "markdown",
   "id": "56685d50-79e4-4ac9-9da8-635c5a23f6b0",
   "metadata": {
    "tags": []
   },
   "source": [
    "### *IT3052E - Fundamentals of Optimization*\n",
    "# **Mini Project 18 - Nurse Scheduling Problem**\n",
    "#### **Techniques used**:\n",
    "* Backtracking,\n",
    "* Constraint Programming,\n",
    "* Linear Programming,\n",
    "* Local Search, and\n",
    "* Meta-heuristics (Genetic Algorithm)."
   ]
  },
  {
   "cell_type": "markdown",
   "id": "92ed990a-61a2-4d74-9f17-6e70d9cedd2b",
   "metadata": {
    "tags": []
   },
   "source": [
    "#### * ***Import pandas for printing solution***"
   ]
  },
  {
   "cell_type": "code",
   "execution_count": null,
   "id": "899d32a9-b848-46af-bead-a5bc980bca54",
   "metadata": {
    "tags": []
   },
   "outputs": [],
   "source": [
    "import pandas as pd\n",
    "import time"
   ]
  },
  {
   "cell_type": "markdown",
   "id": "03de0033-2477-48ec-81c2-7a459404babd",
   "metadata": {},
   "source": [
    "## 3. Hill-climbing search with PyCBLS"
   ]
  },
  {
   "cell_type": "markdown",
   "id": "054a7306-6d00-4b60-897a-cc9e1f1a782f",
   "metadata": {},
   "source": [
    "### 3.1. Import modules and libraries"
   ]
  },
  {
   "cell_type": "code",
   "execution_count": null,
   "id": "e601955d-3fb5-43b6-be97-6b6b766e6299",
   "metadata": {},
   "outputs": [],
   "source": [
    "from PyCBLS.VarIntLS import VarIntLS\n",
    "from PyCBLS.LocalSearchManager import LocalSearchManager\n",
    "from PyCBLS.NotEqual import NotEqual\n",
    "from PyCBLS.ConstraintSystem import ConstraintSystem\n",
    "from PyCBLS.HillClimbingSearch import HillClimbingSearch\n",
    "from PyCBLS.ConditionalSumWithBound import ConditionalSumWithBound\n",
    "import random as rd"
   ]
  },
  {
   "cell_type": "markdown",
   "id": "bff15269-1c19-4c2a-b673-ed07e52b3947",
   "metadata": {},
   "source": [
    "### 3.2. Read data from files"
   ]
  },
  {
   "cell_type": "code",
   "execution_count": null,
   "id": "d9b47c8d-c4e0-415c-8b5b-86b719365b48",
   "metadata": {},
   "outputs": [],
   "source": [
    "with open('SampleData/testCase2/8.txt') as file:\n",
    "  N, D, a, b = [int(q) for q in file.readline().split()]\n",
    "  dayoff = [[0 for d in range(D)] for n in range(N)]\n",
    "  for n in range(N):\n",
    "    for d in [int(h) for h in file.readline().split()]:\n",
    "      if d != -1:\n",
    "            dayoff[n][d-1] = 1\n",
    "            \n",
    "starttime = time.time()"
   ]
  },
  {
   "cell_type": "markdown",
   "id": "3358e17a-71ff-40da-8618-f4d565653016",
   "metadata": {},
   "source": [
    "### 3.3. Generate local search and define decision variable"
   ]
  },
  {
   "cell_type": "code",
   "execution_count": null,
   "id": "bb5f7517-9331-4ac3-ab3b-72e1bef5938b",
   "metadata": {},
   "outputs": [],
   "source": [
    "mgr = LocalSearchManager()"
   ]
  },
  {
   "cell_type": "code",
   "execution_count": null,
   "id": "d22da0c7-ac93-446e-af83-b787cdace36a",
   "metadata": {},
   "outputs": [],
   "source": [
    "assign = [[VarIntLS(mgr,0,4,rd.randint(1, 4),f'assign_{n}_{d}') for n in range(N)] for d in range(D)]\n",
    "\n",
    "mor = VarIntLS(mgr,1,1,1,'one')\n",
    "aft = VarIntLS(mgr,2,2,2,'one')\n",
    "eve = VarIntLS(mgr,3,3,3,'one')\n",
    "nig = VarIntLS(mgr,4,4,4,'one')\n",
    "zero = VarIntLS(mgr,0,0,0,'zero')"
   ]
  },
  {
   "cell_type": "markdown",
   "id": "254fece3-e42a-4de4-a528-949e4a456a78",
   "metadata": {},
   "source": [
    "### 3.4. Generate constraints"
   ]
  },
  {
   "cell_type": "code",
   "execution_count": null,
   "id": "3add702b-b0fe-4b6f-98c4-ac922446e22d",
   "metadata": {},
   "outputs": [],
   "source": [
    "constraints = []"
   ]
  },
  {
   "cell_type": "markdown",
   "id": "d0a1fb34-4e67-41a8-87b7-256101ae7867",
   "metadata": {},
   "source": [
    "#### 3.4.1. A nurse can be assigned to only one shift per day."
   ]
  },
  {
   "cell_type": "markdown",
   "id": "75fadbea-efc9-45ce-b722-b9d89ea2e544",
   "metadata": {},
   "source": [
    "This is constrained by creating decision variable"
   ]
  },
  {
   "cell_type": "markdown",
   "id": "89e6659c-9dad-4022-848b-57340635234d",
   "metadata": {},
   "source": [
    "#### 3.4.2. Each shift has min $a$ nurses and max $b$ nurses."
   ]
  },
  {
   "cell_type": "code",
   "execution_count": null,
   "id": "495ce4ee-4ab7-481e-96e9-a70bf043d619",
   "metadata": {},
   "outputs": [],
   "source": [
    "count = [1 for i in range(N)]\n",
    "for d in range(D):\n",
    "    c = ConditionalSumWithBound(assign[d],count,1,a,b,'CountMor')\n",
    "    constraints.append(c)\n",
    "    c = ConditionalSumWithBound(assign[d],count,2,a,b,'CountAft')\n",
    "    constraints.append(c)\n",
    "    c = ConditionalSumWithBound(assign[d],count,3,a,b,'CountEve')\n",
    "    constraints.append(c)\n",
    "    c = ConditionalSumWithBound(assign[d],count,4,a,b,'CountNig')\n",
    "    constraints.append(c)"
   ]
  },
  {
   "cell_type": "markdown",
   "id": "4f8a52a1-6266-4c80-8dba-91956d437011",
   "metadata": {},
   "source": [
    "#### 3.4.3. Set the given dayoff and dayoff after a night shift"
   ]
  },
  {
   "cell_type": "code",
   "execution_count": null,
   "id": "ae610796-bc01-4eaf-8e83-2635fc2a8a01",
   "metadata": {},
   "outputs": [],
   "source": [
    "for n in range(N):\n",
    "    for d in range(D-1):\n",
    "        if dayoff[n][d] == 1 or assign[d-1][n] == nig:\n",
    "            c = NotEqual(assign[d][n],mor,'NotEqual')\n",
    "            constraints.append(c)\n",
    "            c = NotEqual(assign[d][n],aft,'NotEqual')\n",
    "            constraints.append(c)\n",
    "            c = NotEqual(assign[d][n],eve,'NotEqual')\n",
    "            constraints.append(c)\n",
    "            c = NotEqual(assign[d][n],nig,'NotEqual')\n",
    "            constraints.append(c)\n",
    "        else:\n",
    "            c = NotEqual(assign[d][n],zero,'NotEqual')\n",
    "            constraints.append(c)\n",
    "            \n",
    "    # handle the last day\n",
    "    if dayoff[n][D-1] == 1:\n",
    "        c = NotEqual(assign[D-1][n],mor,'NotEqual')\n",
    "        constraints.append(c)\n",
    "        c = NotEqual(assign[D-1][n],aft,'NotEqual')\n",
    "        constraints.append(c)\n",
    "        c = NotEqual(assign[D-1][n],eve,'NotEqual')\n",
    "        constraints.append(c)\n",
    "        c = NotEqual(assign[D-1][n],nig,'NotEqual')\n",
    "        constraints.append(c)\n",
    "    else:\n",
    "        c = NotEqual(assign[D-1][n],zero,'NotEqual')\n",
    "        constraints.append(c)"
   ]
  },
  {
   "cell_type": "markdown",
   "id": "c101d499-f4df-4a54-b16f-78933429c870",
   "metadata": {},
   "source": [
    "### 3.5. Start local search"
   ]
  },
  {
   "cell_type": "code",
   "execution_count": null,
   "id": "4e41f5ec-a8e0-4126-9c1d-e7799000238f",
   "metadata": {},
   "outputs": [],
   "source": [
    "C = ConstraintSystem(constraints)\n",
    "mgr.close()\n",
    "\n",
    "print('Init, C = ',C.violations())\n",
    "searcher = HillClimbingSearch(C)\n",
    "searcher.search(5000)"
   ]
  },
  {
   "cell_type": "markdown",
   "id": "a268c6f3-ddf5-4847-a327-918008d8e2cd",
   "metadata": {},
   "source": [
    "### 3.6. Print the schedule"
   ]
  },
  {
   "cell_type": "code",
   "execution_count": null,
   "id": "2aea9de8-58f3-49cd-a6c9-fb0b2bf28839",
   "metadata": {},
   "outputs": [],
   "source": [
    "res = [[0 for n in range(N)] for d in range(D)]\n",
    "for d in range(D):\n",
    "    for n in range(N):\n",
    "        res[d][n] = assign[d][n].getValue()\n",
    "df = pd.DataFrame(res, index = [d+1 for d in range(D)], columns = [n+1 for n in range(N)])\n",
    "df.index.name = 'Nurse'\n",
    "df.columns.name = 'Day'\n",
    "display(df)\n",
    "print('Running time:',time.time() - starttime)"
   ]
  },
  {
   "cell_type": "markdown",
   "id": "f10da79b-dccd-43a8-8ffc-faed3005a74b",
   "metadata": {},
   "source": [
    "### 3.7. Optimal solution"
   ]
  },
  {
   "cell_type": "code",
   "execution_count": null,
   "id": "925d1d3b-4d16-401d-b52d-398af08fef5e",
   "metadata": {},
   "outputs": [],
   "source": [
    "maxNightShift = -1\n",
    "for n in range(N):\n",
    "    tmp = 0\n",
    "    for d in range(D):\n",
    "        if res[d][n] == 4:\n",
    "            tmp += 1\n",
    "    if tmp > maxNightShift:\n",
    "        maxNightShift = tmp\n",
    "        \n",
    "print('Optimal solution - Max night shift assigned to a nurse:', maxNightShift)"
   ]
  },
  {
   "cell_type": "code",
   "execution_count": null,
   "id": "e8c7e238-061f-4f4a-a15f-d1974e464c65",
   "metadata": {},
   "outputs": [],
   "source": []
  }
 ],
 "metadata": {
  "environment": {
   "kernel": "python3",
   "name": "common-cpu.m103",
   "type": "gcloud",
   "uri": "gcr.io/deeplearning-platform-release/base-cpu:m103"
  },
  "kernelspec": {
   "display_name": "Python 3",
   "language": "python",
   "name": "python3"
  },
  "language_info": {
   "codemirror_mode": {
    "name": "ipython",
    "version": 3
   },
   "file_extension": ".py",
   "mimetype": "text/x-python",
   "name": "python",
   "nbconvert_exporter": "python",
   "pygments_lexer": "ipython3",
   "version": "3.7.12"
  }
 },
 "nbformat": 4,
 "nbformat_minor": 5
}
