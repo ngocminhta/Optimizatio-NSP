{
 "cells": [
  {
   "cell_type": "markdown",
   "id": "56685d50-79e4-4ac9-9da8-635c5a23f6b0",
   "metadata": {
    "tags": []
   },
   "source": [
    "### *IT3052E - Fundamentals of Optimization*\n",
    "# **Mini Project 18 - Nurse Scheduling Problem**\n",
    "#### **Techniques used**:\n",
    "* Backtracking,\n",
    "* Constraint Programming,\n",
    "* Linear Programming,\n",
    "* Local Search, and\n",
    "* Meta-heuristics (Genetic Algorithm)."
   ]
  },
  {
   "cell_type": "markdown",
   "id": "92ed990a-61a2-4d74-9f17-6e70d9cedd2b",
   "metadata": {
    "tags": []
   },
   "source": [
    "#### * ***Import pandas for printing solution***"
   ]
  },
  {
   "cell_type": "code",
   "execution_count": 124,
   "id": "899d32a9-b848-46af-bead-a5bc980bca54",
   "metadata": {
    "tags": []
   },
   "outputs": [],
   "source": [
    "import pandas as pd\n",
    "import random\n",
    "import time"
   ]
  },
  {
   "cell_type": "markdown",
   "id": "03de0033-2477-48ec-81c2-7a459404babd",
   "metadata": {},
   "source": [
    "## 3. Hill-climbing search"
   ]
  },
  {
   "cell_type": "markdown",
   "id": "bff15269-1c19-4c2a-b673-ed07e52b3947",
   "metadata": {},
   "source": [
    "### 3.1. Read data from files"
   ]
  },
  {
   "cell_type": "code",
   "execution_count": 125,
   "id": "d9b47c8d-c4e0-415c-8b5b-86b719365b48",
   "metadata": {},
   "outputs": [],
   "source": [
    "with open('SampleData/testCase2/4.txt') as file:\n",
    "  N, D, a, b = [int(q) for q in file.readline().split()]\n",
    "  dayoff = [[0 for d in range(D)] for n in range(N)]\n",
    "  for n in range(N):\n",
    "    for d in [int(h) for h in file.readline().split()]:\n",
    "      if d != -1:\n",
    "            dayoff[n][d-1] = 1\n",
    "            \n",
    "starttime = time.time()"
   ]
  },
  {
   "cell_type": "markdown",
   "id": "3358e17a-71ff-40da-8618-f4d565653016",
   "metadata": {},
   "source": [
    "### 3.2. Initialize the solution"
   ]
  },
  {
   "cell_type": "code",
   "execution_count": 126,
   "id": "d22da0c7-ac93-446e-af83-b787cdace36a",
   "metadata": {},
   "outputs": [],
   "source": [
    "def initialize(nurses, D, a, b):\n",
    "    # Initialize the schedule randomly, but ensuring each nurse works one shift per day\n",
    "    # and accounting for the day off constraint\n",
    "    schedule = [[None for _ in range(D)] for _ in range(nurses)]\n",
    "    for day in range(D):\n",
    "        available_nurses = [i for i in range(nurses) if schedule[i][day] is None]\n",
    "        for shift in range(4):\n",
    "            assigned_nurses = set()\n",
    "            while len(assigned_nurses) < a:\n",
    "                if not available_nurses:\n",
    "                    # If there aren't enough nurses available for this shift, reinitialize the schedule\n",
    "                    return initialize(nurses, D)\n",
    "                \n",
    "                nurse = random.choice(available_nurses)\n",
    "                if day > 0 and schedule[nurse][day-1] == 3:\n",
    "                    # Nurse worked evening shift yesterday, so they have today off\n",
    "                    available_nurses.remove(nurse)\n",
    "                    continue\n",
    "                \n",
    "                available_nurses.remove(nurse)\n",
    "                assigned_nurses.add(nurse)\n",
    "                schedule[nurse][day] = shift\n",
    "                \n",
    "                if len(assigned_nurses) == b:\n",
    "                    break\n",
    "    return schedule"
   ]
  },
  {
   "cell_type": "markdown",
   "id": "254fece3-e42a-4de4-a528-949e4a456a78",
   "metadata": {},
   "source": [
    "### 3.3. Evaluate the objective function"
   ]
  },
  {
   "cell_type": "code",
   "execution_count": 127,
   "id": "3add702b-b0fe-4b6f-98c4-ac922446e22d",
   "metadata": {},
   "outputs": [],
   "source": [
    "def evaluate(schedule):\n",
    "    # Calculate the maximum number of night shifts assigned to any nurse\n",
    "    night_shift_counts = [sum(1 for shift in nurse_schedule if shift == 3) for nurse_schedule in schedule]\n",
    "    return max(night_shift_counts)"
   ]
  },
  {
   "cell_type": "markdown",
   "id": "64c07ae2-061b-4178-b28b-9b5956210586",
   "metadata": {},
   "source": [
    "### 3.4. Hill-climbing main algorithm"
   ]
  },
  {
   "cell_type": "markdown",
   "id": "d0a1fb34-4e67-41a8-87b7-256101ae7867",
   "metadata": {},
   "source": [
    "#### 3.4.1. Generate neighbors"
   ]
  },
  {
   "cell_type": "code",
   "execution_count": 128,
   "id": "c5836c80-ee52-4c06-add2-6e75d2105f1b",
   "metadata": {},
   "outputs": [],
   "source": [
    "def generate_neighbors(schedule, D):\n",
    "    # Generate all possible neighbors by swapping the shift of two nurses on a single day\n",
    "    neighbors = []\n",
    "    for day in range(D):\n",
    "        for nurse1 in range(len(schedule)):\n",
    "            for nurse2 in range(nurse1+1, len(schedule)):\n",
    "                neighbor = [row[:] for row in schedule]\n",
    "                neighbor[nurse1][day], neighbor[nurse2][day] = neighbor[nurse2][day], neighbor[nurse1][day]\n",
    "                neighbors.append(neighbor)\n",
    "    return neighbors"
   ]
  },
  {
   "cell_type": "markdown",
   "id": "89e6659c-9dad-4022-848b-57340635234d",
   "metadata": {},
   "source": [
    "#### 3.4.2. Hill climbing algorithm"
   ]
  },
  {
   "cell_type": "code",
   "execution_count": 129,
   "id": "495ce4ee-4ab7-481e-96e9-a70bf043d619",
   "metadata": {},
   "outputs": [],
   "source": [
    "def hill_climbing(nurses, D, a, b):\n",
    "    # Generate an initial solution\n",
    "    current_state = initialize(nurses, D, a, b)\n",
    "    \n",
    "    while True:\n",
    "        # Generate all possible neighbors of the current solution\n",
    "        neighbors = generate_neighbors(current_state, D)\n",
    "        \n",
    "        # Evaluate the neighbors and find the best one\n",
    "        best_neighbor = min(neighbors, key=evaluate)\n",
    "        best_neighbor_value = evaluate(best_neighbor)\n",
    "        \n",
    "        # If the best neighbor is better than the current state, move to the best neighbor\n",
    "        if best_neighbor_value < evaluate(current_state):\n",
    "            current_state = best_neighbor\n",
    "        # Otherwise, return the current state\n",
    "        else:\n",
    "            return current_state"
   ]
  },
  {
   "cell_type": "markdown",
   "id": "a268c6f3-ddf5-4847-a327-918008d8e2cd",
   "metadata": {},
   "source": [
    "### 3.6. Print the schedule"
   ]
  },
  {
   "cell_type": "code",
   "execution_count": null,
   "id": "2aea9de8-58f3-49cd-a6c9-fb0b2bf28839",
   "metadata": {},
   "outputs": [],
   "source": [
    "schedule = hill_climbing(N, D, a, b)\n",
    "res = [[0 for n in range(N)] for d in range(D)]\n",
    "for i, nurse_schedule in enumerate(schedule):\n",
    "    #print(f\"Nurse {i+1}: \", end=\"\")\n",
    "    j = 0\n",
    "    for shift in nurse_schedule:\n",
    "        if shift is None:\n",
    "            res[j][i] = 0\n",
    "        else:\n",
    "            res[j][i] = shift+1\n",
    "        j += 1\n",
    "df = pd.DataFrame(res, index = [d+1 for d in range(D)], columns = [n+1 for n in range(N)])\n",
    "df.index.name = 'Day'\n",
    "df.columns.name = 'Nurse'\n",
    "#display(df)\n",
    "print('Running time:',time.time() - starttime)"
   ]
  },
  {
   "cell_type": "markdown",
   "id": "f10da79b-dccd-43a8-8ffc-faed3005a74b",
   "metadata": {},
   "source": [
    "### 3.7. Optimal solution"
   ]
  },
  {
   "cell_type": "code",
   "execution_count": null,
   "id": "925d1d3b-4d16-401d-b52d-398af08fef5e",
   "metadata": {},
   "outputs": [],
   "source": [
    "print('Optimal solution - Max night shift assigned to a nurse:', evaluate(schedule))"
   ]
  },
  {
   "cell_type": "code",
   "execution_count": null,
   "id": "e8c7e238-061f-4f4a-a15f-d1974e464c65",
   "metadata": {},
   "outputs": [],
   "source": []
  }
 ],
 "metadata": {
  "environment": {
   "kernel": "python3",
   "name": "common-cpu.m103",
   "type": "gcloud",
   "uri": "gcr.io/deeplearning-platform-release/base-cpu:m103"
  },
  "kernelspec": {
   "display_name": "Python 3",
   "language": "python",
   "name": "python3"
  },
  "language_info": {
   "codemirror_mode": {
    "name": "ipython",
    "version": 3
   },
   "file_extension": ".py",
   "mimetype": "text/x-python",
   "name": "python",
   "nbconvert_exporter": "python",
   "pygments_lexer": "ipython3",
   "version": "3.7.12"
  }
 },
 "nbformat": 4,
 "nbformat_minor": 5
}
