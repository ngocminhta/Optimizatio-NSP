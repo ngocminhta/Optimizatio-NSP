{
 "cells": [
  {
   "cell_type": "markdown",
   "metadata": {
    "id": "VpQuGnlC_eQI"
   },
   "source": [
    "*IT3052E - Fundamentals of Optimization*"
   ]
  },
  {
   "cell_type": "markdown",
   "metadata": {
    "id": "IFS3EfkI_oRD"
   },
   "source": [
    "# **Mini Project 18 - Nurse Scheduling Problem**"
   ]
  },
  {
   "cell_type": "markdown",
   "metadata": {
    "id": "hTYp8lB__0N-"
   },
   "source": [
    "## **Techniques used:**"
   ]
  },
  {
   "cell_type": "markdown",
   "metadata": {
    "id": "nQvCLgeL_45S"
   },
   "source": [
    "\n",
    "\n",
    "*   Backtracking\n",
    "*   Constraint Programming\n",
    "*   Linear Programming\n",
    "*   Local Search\n",
    "*   Heuristics\n",
    "*   Meta-Heuristics(Genetic Algorithm)\n",
    "\n"
   ]
  },
  {
   "cell_type": "markdown",
   "metadata": {
    "tags": []
   },
   "source": [
    "#### * ***Import pandas for printing solution***"
   ]
  },
  {
   "cell_type": "code",
   "execution_count": null,
   "metadata": {
    "tags": []
   },
   "outputs": [],
   "source": [
    "import pandas as pd\n",
    "import time"
   ]
  },
  {
   "cell_type": "markdown",
   "metadata": {
    "id": "m74OysVLAEi2"
   },
   "source": [
    "## 4.Greedy"
   ]
  },
  {
   "cell_type": "markdown",
   "metadata": {
    "id": "ChvxEEKTAWeQ"
   },
   "source": [
    "### 4.1. Read data from file"
   ]
  },
  {
   "cell_type": "code",
   "execution_count": null,
   "metadata": {
    "id": "JcTgL2g1AfsH"
   },
   "outputs": [],
   "source": [
    "with open('SampleData/testCase1/0.txt') as file:\n",
    "    N, D, a, b = [int(q) for q in file.readline().split()]\n",
    "    dayOff = []\n",
    "    for n in range(N):\n",
    "        k = [int(x) for x in file.readline().split()]\n",
    "        dayOff.append(k[:-1])\n",
    "        \n",
    "starttime = time.time()"
   ]
  },
  {
   "cell_type": "markdown",
   "metadata": {
    "id": "DUxlUqbIAlS1"
   },
   "source": [
    "### 4.2. Constraint"
   ]
  },
  {
   "cell_type": "code",
   "execution_count": null,
   "metadata": {
    "id": "ZUdvGa2xAwU8"
   },
   "outputs": [],
   "source": [
    "def check_if_previous_night_shift_worked(schedule, nurse, day):\n",
    "    if day == 0:\n",
    "        return False\n",
    "    if schedule[nurse][day - 1] == 4:\n",
    "        return True\n",
    "    return False"
   ]
  },
  {
   "cell_type": "markdown",
   "metadata": {
    "id": "twde-d2JAzrg"
   },
   "source": [
    "### 4.3. Generate solution"
   ]
  },
  {
   "cell_type": "code",
   "execution_count": null,
   "metadata": {
    "id": "PMeI1CzmA5YE"
   },
   "outputs": [],
   "source": [
    "def schedule_employees(n, d, a, b):\n",
    "    # Initialize the schedule\n",
    "    schedule = [[0 for j in range(d)] for i in range(n)]\n",
    "    for day in range(d):\n",
    "        avaiableNurse = [nurse for nurse in range(n) if day+1 not in dayOff[nurse] and check_if_previous_night_shift_worked(schedule, nurse, day) == False]\n",
    "        s = len(avaiableNurse)\n",
    "        count_night = a\n",
    "        count_othershifts = min((s - count_night) // 3, b)\n",
    "\n",
    "        #sorting by number of last shift assigned\n",
    "        avaiableNurse.sort(key=lambda x: schedule[x].count(4))\n",
    "\n",
    "        for i in range(1, 5):\n",
    "            if i == 4:\n",
    "                assigned_nurses = avaiableNurse[:count_night]\n",
    "                for nurse in assigned_nurses:\n",
    "                    schedule[nurse][day] = i\n",
    "            else:\n",
    "                assigned_nurses = avaiableNurse[\n",
    "                                  count_night + count_othershifts * (3 - i): count_night + count_othershifts * (4 - i)]\n",
    "                for nurse in assigned_nurses:\n",
    "                    schedule[nurse][day] = i\n",
    "        remain_part = avaiableNurse[count_night + count_othershifts * 3:]\n",
    "        if len(remain_part) > 0:\n",
    "            for k in range(len(remain_part)):\n",
    "                schedule[remain_part[k]][day] = k + 1\n",
    "    return schedule\n",
    "\n",
    "res = schedule_employees(N, D, a, b)\n",
    "#for i in range(len(x)):\n",
    "#    print(*x[i])\n",
    "\n",
    "df = pd.DataFrame(res, index = [n+1 for n in range(N)], columns = [d+1 for d in range(D)])\n",
    "df.index.name = 'Nurse'\n",
    "df.columns.name = 'Day'\n",
    "display(df)\n",
    "\n",
    "print('Running time:',time.time() - starttime)"
   ]
  },
  {
   "cell_type": "code",
   "execution_count": null,
   "metadata": {},
   "outputs": [],
   "source": []
  }
 ],
 "metadata": {
  "colab": {
   "provenance": []
  },
  "environment": {
   "kernel": "python3",
   "name": "common-cpu.m103",
   "type": "gcloud",
   "uri": "gcr.io/deeplearning-platform-release/base-cpu:m103"
  },
  "kernelspec": {
   "display_name": "Python 3",
   "language": "python",
   "name": "python3"
  },
  "language_info": {
   "codemirror_mode": {
    "name": "ipython",
    "version": 3
   },
   "file_extension": ".py",
   "mimetype": "text/x-python",
   "name": "python",
   "nbconvert_exporter": "python",
   "pygments_lexer": "ipython3",
   "version": "3.7.12"
  }
 },
 "nbformat": 4,
 "nbformat_minor": 4
}
