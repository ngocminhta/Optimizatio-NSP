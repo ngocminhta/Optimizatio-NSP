{
 "cells": [
  {
   "cell_type": "code",
   "execution_count": 3,
   "metadata": {
    "colab": {
     "base_uri": "https://localhost:8080/"
    },
    "executionInfo": {
     "elapsed": 5357,
     "status": "ok",
     "timestamp": 1675020264368,
     "user": {
      "displayName": "Bình Lê Ngọc",
      "userId": "00466361804814636812"
     },
     "user_tz": -420
    },
    "id": "beyPoFwCcYxt",
    "outputId": "c5d92d4a-e10b-4d7f-97a3-031df6c56cdd"
   },
   "outputs": [],
   "source": [
    "from ortools.linear_solver import pywraplp"
   ]
  },
  {
   "cell_type": "code",
   "execution_count": 75,
   "metadata": {
    "executionInfo": {
     "elapsed": 4,
     "status": "ok",
     "timestamp": 1675020264368,
     "user": {
      "displayName": "Bình Lê Ngọc",
      "userId": "00466361804814636812"
     },
     "user_tz": -420
    },
    "id": "kc2sjRlgcuW9"
   },
   "outputs": [],
   "source": [
    "solver = pywraplp.Solver.CreateSolver('GLOP')"
   ]
  },
  {
   "cell_type": "code",
   "execution_count": 76,
   "metadata": {
    "executionInfo": {
     "elapsed": 3,
     "status": "ok",
     "timestamp": 1675020264368,
     "user": {
      "displayName": "Bình Lê Ngọc",
      "userId": "00466361804814636812"
     },
     "user_tz": -420
    },
    "id": "VuSNeYtutAN_"
   },
   "outputs": [],
   "source": [
    "with open('1.txt') as file:\n",
    "    N, D, a, b = [int(x) for x in file.readline().split()]\n",
    "    f = [[0 for d in range(D)] for n in range(N)]\n",
    "    for n in range(N):\n",
    "      for day_off in [int(x) for x in file.readline().split()]:\n",
    "        if day_off != -1:\n",
    "          f[n][day_off - 1] = 1"
   ]
  },
  {
   "cell_type": "code",
   "execution_count": 77,
   "metadata": {
    "executionInfo": {
     "elapsed": 437,
     "status": "ok",
     "timestamp": 1675020264802,
     "user": {
      "displayName": "Bình Lê Ngọc",
      "userId": "00466361804814636812"
     },
     "user_tz": -420
    },
    "id": "y868GwfatNk5"
   },
   "outputs": [],
   "source": [
    "assign = [[[-1 for s in range(4)] for d in range(D)] for n in range(N)]\n",
    "for n in range(N):\n",
    "  for d in range(D):\n",
    "    for s in range(4):\n",
    "      assign[n][d][s] = solver.IntVar(0, 1, f'assign_{n}_{d}_{s}')\n",
    "\n",
    "t = solver.IntVar(0, d, 't')"
   ]
  },
  {
   "cell_type": "markdown",
   "metadata": {
    "id": "_Vc37004u8WZ"
   },
   "source": [
    "1 task per day\n"
   ]
  },
  {
   "cell_type": "code",
   "execution_count": 78,
   "metadata": {
    "executionInfo": {
     "elapsed": 3,
     "status": "ok",
     "timestamp": 1675020264803,
     "user": {
      "displayName": "Bình Lê Ngọc",
      "userId": "00466361804814636812"
     },
     "user_tz": -420
    },
    "id": "11HbNVLtuIAK"
   },
   "outputs": [],
   "source": [
    "for d in range(D):\n",
    "  for n in range(N):\n",
    "    p = 0\n",
    "    for s in range(4):\n",
    "        p += assign[n][d][s]\n",
    "    solver.Add(p <= 1)"
   ]
  },
  {
   "cell_type": "markdown",
   "metadata": {
    "id": "U4BUVIK8vCRh"
   },
   "source": [
    "]minimum and maximum nurse"
   ]
  },
  {
   "cell_type": "code",
   "execution_count": 79,
   "metadata": {
    "executionInfo": {
     "elapsed": 2,
     "status": "ok",
     "timestamp": 1675020264803,
     "user": {
      "displayName": "Bình Lê Ngọc",
      "userId": "00466361804814636812"
     },
     "user_tz": -420
    },
    "id": "rpdZIYXkvKpZ"
   },
   "outputs": [],
   "source": [
    "for d in range(D):\n",
    "  for s in range(4):\n",
    "    p = 0\n",
    "    for n in range(N):\n",
    "        p += assign[n][d][s]\n",
    "    solver.Add(p >= a)\n",
    "    solver.Add(p <= b)"
   ]
  },
  {
   "cell_type": "markdown",
   "metadata": {
    "id": "hitB7V-LwCYq"
   },
   "source": [
    "worked at the last shift can have a day-off the next day and have to work at day that is not a day-off"
   ]
  },
  {
   "cell_type": "code",
   "execution_count": 80,
   "metadata": {
    "executionInfo": {
     "elapsed": 2,
     "status": "ok",
     "timestamp": 1675020265277,
     "user": {
      "displayName": "Bình Lê Ngọc",
      "userId": "00466361804814636812"
     },
     "user_tz": -420
    },
    "id": "w4Kn9mbP2R1h"
   },
   "outputs": [],
   "source": [
    "for n in range(N):\n",
    "  for d in range(1,d):\n",
    "    p = 0\n",
    "    for s in range(4):\n",
    "        p += assign[n][d][s]\n",
    "    solver.Add(p + assign[n][d-1][3] >= 1 - f[n][d])\n",
    "    \n",
    "d = 0\n",
    "for n in range(N):\n",
    "    p = 0\n",
    "    for s in range(4):\n",
    "        p += assign[n][d][s]\n",
    "    solver.Add(p >= 1 - f[n][d])"
   ]
  },
  {
   "cell_type": "markdown",
   "metadata": {
    "id": "6MsnhtNd5RdA"
   },
   "source": [
    "Objective Function"
   ]
  },
  {
   "cell_type": "code",
   "execution_count": 81,
   "metadata": {
    "executionInfo": {
     "elapsed": 1,
     "status": "ok",
     "timestamp": 1675020266366,
     "user": {
      "displayName": "Bình Lê Ngọc",
      "userId": "00466361804814636812"
     },
     "user_tz": -420
    },
    "id": "9qHlw8hV-Fow"
   },
   "outputs": [],
   "source": [
    "for n in range(N):\n",
    "    p = 0\n",
    "    for d in range(D):\n",
    "        p += assign[n][d][3]\n",
    "    solver.Add(t - p >= 0)"
   ]
  },
  {
   "cell_type": "markdown",
   "metadata": {
    "id": "DE2NjlnU-KDP"
   },
   "source": [
    "Invoke the solver"
   ]
  },
  {
   "cell_type": "code",
   "execution_count": 82,
   "metadata": {
    "executionInfo": {
     "elapsed": 476,
     "status": "ok",
     "timestamp": 1675020267779,
     "user": {
      "displayName": "Bình Lê Ngọc",
      "userId": "00466361804814636812"
     },
     "user_tz": -420
    },
    "id": "nPl6Coa9-PJX"
   },
   "outputs": [],
   "source": [
    "solver.Minimize(t)\n",
    "status = solver.Solve()"
   ]
  },
  {
   "cell_type": "markdown",
   "metadata": {
    "id": "ApTjgREc-eKw"
   },
   "source": [
    "Print solution.\n"
   ]
  },
  {
   "cell_type": "code",
   "execution_count": 83,
   "metadata": {
    "colab": {
     "base_uri": "https://localhost:8080/"
    },
    "executionInfo": {
     "elapsed": 2,
     "status": "ok",
     "timestamp": 1675020268650,
     "user": {
      "displayName": "Bình Lê Ngọc",
      "userId": "00466361804814636812"
     },
     "user_tz": -420
    },
    "id": "pQ2eK3eJ-h5n",
    "outputId": "20253994-c8da-4316-94a3-4bf7426a104f"
   },
   "outputs": [
    {
     "name": "stdout",
     "output_type": "stream",
     "text": [
      "Minimum of objective function = 2.0\n",
      "\n"
     ]
    }
   ],
   "source": [
    "if status == pywraplp.Solver.OPTIMAL or status == pywraplp.Solver.FEASIBLE:\n",
    "        print(f'Minimum of objective function = {solver.Objective().Value()}\\n')\n",
    "else:\n",
    "  print('No optimal solution')"
   ]
  },
  {
   "cell_type": "code",
   "execution_count": null,
   "metadata": {},
   "outputs": [],
   "source": []
  }
 ],
 "metadata": {
  "colab": {
   "authorship_tag": "ABX9TyONIX7jUlat2RxYZlzZz4T0",
   "provenance": []
  },
  "kernelspec": {
   "display_name": "Python 3 (ipykernel)",
   "language": "python",
   "name": "python3"
  },
  "language_info": {
   "codemirror_mode": {
    "name": "ipython",
    "version": 3
   },
   "file_extension": ".py",
   "mimetype": "text/x-python",
   "name": "python",
   "nbconvert_exporter": "python",
   "pygments_lexer": "ipython3",
   "version": "3.9.12"
  }
 },
 "nbformat": 4,
 "nbformat_minor": 4
}
