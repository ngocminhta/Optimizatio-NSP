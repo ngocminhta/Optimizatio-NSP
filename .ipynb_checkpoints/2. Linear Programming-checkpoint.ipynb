{
 "cells": [
  {
   "cell_type": "markdown",
   "id": "04e8034d-4d60-464a-addd-c092df47a98b",
   "metadata": {
    "tags": []
   },
   "source": [
    "### *IT3052E - Fundamentals of Optimization*\n",
    "# **Mini Project 18 - Nurse Scheduling Problem**\n",
    "#### **Techniques used**:\n",
    "* Greedy algorithm and Backtracking,\n",
    "* Constraint Programming,\n",
    "* Linear Programming,\n",
    "* Local Search\n",
    "* Heuristics, and\n",
    "* Meta-heuristics (Genetic Algorithm)."
   ]
  },
  {
   "cell_type": "markdown",
   "id": "465a2e6a-90da-4cdf-ac5d-965a1208810b",
   "metadata": {
    "tags": []
   },
   "source": [
    "#### * ***Import pandas for printing solution***"
   ]
  },
  {
   "cell_type": "code",
   "execution_count": null,
   "id": "68434c20-60e7-4bfe-a381-efc549eed43c",
   "metadata": {
    "tags": []
   },
   "outputs": [],
   "source": [
    "import pandas as pd"
   ]
  },
  {
   "cell_type": "markdown",
   "id": "9a66b292-49f4-481f-bae9-2bddbe01cc71",
   "metadata": {
    "tags": []
   },
   "source": [
    "## 2. Linear Programming"
   ]
  },
  {
   "cell_type": "markdown",
   "id": "5a39735d-489d-4da5-8131-ec6d42ebdd74",
   "metadata": {
    "tags": []
   },
   "source": [
    "### 2.1. Import modules and libraries"
   ]
  },
  {
   "cell_type": "code",
   "execution_count": 40,
   "id": "9055eb2b-9a0c-4910-9e2d-7d5cb53387b7",
   "metadata": {},
   "outputs": [],
   "source": [
    "from ortools.linear_solver import pywraplp"
   ]
  },
  {
   "cell_type": "markdown",
   "id": "a7f4a51a-824e-49e7-b6d7-64877fe631f1",
   "metadata": {
    "tags": []
   },
   "source": [
    "### 2.2. Read data from file"
   ]
  },
  {
   "cell_type": "markdown",
   "id": "7f175fcb-0931-4bff-8fcd-d2bf75fa6f86",
   "metadata": {},
   "source": [
    "#### Read N, D, a, b and dayoff"
   ]
  },
  {
   "cell_type": "code",
   "execution_count": 41,
   "id": "dafe0dc6-4ca8-476d-8dda-d333bc06e747",
   "metadata": {},
   "outputs": [],
   "source": [
    "with open('SampleData/testCase1/0.txt') as file:\n",
    "    N, D, a, b = [int(x) for x in file.readline().split()]\n",
    "    dayoff = [[0 for d in range(D)] for n in range(N)]\n",
    "    for n in range(N):\n",
    "      for do in [int(x) for x in file.readline().split()]:\n",
    "        if do != -1:\n",
    "          dayoff[n][do - 1] = 1"
   ]
  },
  {
   "cell_type": "markdown",
   "id": "f8e8d9b5-069a-49a0-8d29-1b00452432cf",
   "metadata": {
    "tags": []
   },
   "source": [
    "### 2.3. Create model"
   ]
  },
  {
   "cell_type": "code",
   "execution_count": 42,
   "id": "a4bf9faa-f586-406f-85da-931fee59e83c",
   "metadata": {},
   "outputs": [],
   "source": [
    "solver = pywraplp.Solver.CreateSolver('GLOP')\n",
    "\n",
    "assign = [[[-1 for s in range(4)] for d in range(D)] for n in range(N)]\n",
    "for n in range(N):\n",
    "  for d in range(D):\n",
    "    for s in range(4):\n",
    "      assign[n][d][s] = solver.IntVar(0, 1, f'assign_{n}_{d}_{s}')\n",
    "\n",
    "t = solver.IntVar(0, d, 't')"
   ]
  },
  {
   "cell_type": "markdown",
   "id": "4aaf3abe-aac1-4b04-9b33-eabc89abb856",
   "metadata": {
    "tags": []
   },
   "source": [
    "### 2.4. Generate constraint"
   ]
  },
  {
   "cell_type": "markdown",
   "id": "9e8f6934-6b7b-411b-a64d-d4e9d9db4bfb",
   "metadata": {
    "tags": []
   },
   "source": [
    "#### 2.4.1. A nurse can be assigned to only one shift per day."
   ]
  },
  {
   "cell_type": "code",
   "execution_count": 43,
   "id": "4e7d3ccd-ffc8-422b-83a4-779ba5e17aa2",
   "metadata": {},
   "outputs": [],
   "source": [
    "for d in range(D):\n",
    "  for n in range(N):\n",
    "    p = 0\n",
    "    for s in range(4):\n",
    "        p += assign[n][d][s]\n",
    "    solver.Add(p <= 1)"
   ]
  },
  {
   "cell_type": "markdown",
   "id": "90ec85cc-5869-4a1a-a159-b8693768a631",
   "metadata": {
    "tags": []
   },
   "source": [
    "#### 2.4.2. Each shift has min $a$ nurses and max $b$ nurses."
   ]
  },
  {
   "cell_type": "code",
   "execution_count": 44,
   "id": "e2844dcf-380d-49ed-bfb0-d6f989f8b810",
   "metadata": {},
   "outputs": [],
   "source": [
    "for d in range(D):\n",
    "  for s in range(4):\n",
    "    p = 0\n",
    "    for n in range(N):\n",
    "        p += assign[n][d][s]\n",
    "    solver.Add(p >= a)\n",
    "    solver.Add(p <= b)"
   ]
  },
  {
   "cell_type": "markdown",
   "id": "03076d5a-97a2-433e-9cb9-f41ce58620eb",
   "metadata": {
    "tags": []
   },
   "source": [
    "#### 2.4.3. A nurse worked night shift in the previous day has the next day off."
   ]
  },
  {
   "cell_type": "code",
   "execution_count": 45,
   "id": "0860570f-e921-4218-80cb-895552846807",
   "metadata": {},
   "outputs": [],
   "source": [
    "for n in range(N):\n",
    "  for d in range(1,d):\n",
    "    p = 0\n",
    "    for s in range(4):\n",
    "        p += assign[n][d][s]\n",
    "    solver.Add(p + assign[n][d-1][3] >= 1 - dayoff[n][d])\n",
    "    \n",
    "d = 0\n",
    "for n in range(N):\n",
    "    p = 0\n",
    "    for s in range(4):\n",
    "        p += assign[n][d][s]\n",
    "    solver.Add(p >= 1 - dayoff[n][d])"
   ]
  },
  {
   "cell_type": "markdown",
   "id": "4577ccb7-1ea2-4581-a0cb-5d41fe5d0e85",
   "metadata": {
    "tags": []
   },
   "source": [
    "### 2.5. Set objective function"
   ]
  },
  {
   "cell_type": "markdown",
   "id": "d27fcb9b-02f0-460b-ad2b-1de7d3335a43",
   "metadata": {
    "tags": []
   },
   "source": [
    "#### Minimize the max night shift"
   ]
  },
  {
   "cell_type": "code",
   "execution_count": 46,
   "id": "486c2aa8-ff17-48ec-9db2-96cd018aac93",
   "metadata": {},
   "outputs": [],
   "source": [
    "for n in range(N):\n",
    "    p = 0\n",
    "    for d in range(D):\n",
    "        p += assign[n][d][3]\n",
    "    solver.Add(t - p >= 0)"
   ]
  },
  {
   "cell_type": "code",
   "execution_count": 47,
   "id": "ca6d9d41-9857-41e7-956e-a0fc8e6fb004",
   "metadata": {},
   "outputs": [],
   "source": [
    "solver.Minimize(t)"
   ]
  },
  {
   "cell_type": "markdown",
   "id": "14ecd1ea-0e93-4284-9758-2e26a664a329",
   "metadata": {
    "tags": []
   },
   "source": [
    "### 2.6. Invoke the model"
   ]
  },
  {
   "cell_type": "code",
   "execution_count": 48,
   "id": "8430ffe3-cfb5-46f1-a949-b74b508bb241",
   "metadata": {},
   "outputs": [],
   "source": [
    "status = solver.Solve()"
   ]
  },
  {
   "cell_type": "markdown",
   "id": "cfbe3553-ce8a-4080-bbfc-ebed458fdb74",
   "metadata": {
    "tags": []
   },
   "source": [
    "### 2.7. Print the schedule"
   ]
  },
  {
   "cell_type": "code",
   "execution_count": 49,
   "id": "24ea0c48-451d-484c-9b00-09b67d05c4b9",
   "metadata": {},
   "outputs": [
    {
     "name": "stdout",
     "output_type": "stream",
     "text": [
      "Minimum of objective function = 0.6666666666666666\n",
      "\n"
     ]
    },
    {
     "data": {
      "text/html": [
       "<div>\n",
       "<style scoped>\n",
       "    .dataframe tbody tr th:only-of-type {\n",
       "        vertical-align: middle;\n",
       "    }\n",
       "\n",
       "    .dataframe tbody tr th {\n",
       "        vertical-align: top;\n",
       "    }\n",
       "\n",
       "    .dataframe thead th {\n",
       "        text-align: right;\n",
       "    }\n",
       "</style>\n",
       "<table border=\"1\" class=\"dataframe\">\n",
       "  <thead>\n",
       "    <tr style=\"text-align: right;\">\n",
       "      <th>Day</th>\n",
       "      <th>1</th>\n",
       "      <th>2</th>\n",
       "      <th>3</th>\n",
       "      <th>4</th>\n",
       "      <th>5</th>\n",
       "      <th>6</th>\n",
       "      <th>7</th>\n",
       "      <th>8</th>\n",
       "      <th>9</th>\n",
       "      <th>10</th>\n",
       "      <th>11</th>\n",
       "      <th>12</th>\n",
       "      <th>13</th>\n",
       "      <th>14</th>\n",
       "      <th>15</th>\n",
       "    </tr>\n",
       "    <tr>\n",
       "      <th>Nurse</th>\n",
       "      <th></th>\n",
       "      <th></th>\n",
       "      <th></th>\n",
       "      <th></th>\n",
       "      <th></th>\n",
       "      <th></th>\n",
       "      <th></th>\n",
       "      <th></th>\n",
       "      <th></th>\n",
       "      <th></th>\n",
       "      <th></th>\n",
       "      <th></th>\n",
       "      <th></th>\n",
       "      <th></th>\n",
       "      <th></th>\n",
       "    </tr>\n",
       "  </thead>\n",
       "  <tbody>\n",
       "    <tr>\n",
       "      <th>1</th>\n",
       "      <td>2</td>\n",
       "      <td>1</td>\n",
       "      <td>3</td>\n",
       "      <td>0</td>\n",
       "      <td>4</td>\n",
       "      <td>1</td>\n",
       "      <td>4</td>\n",
       "      <td>3</td>\n",
       "      <td>1</td>\n",
       "      <td>3</td>\n",
       "      <td>1</td>\n",
       "      <td>1</td>\n",
       "      <td>1</td>\n",
       "      <td>3</td>\n",
       "      <td>3</td>\n",
       "    </tr>\n",
       "    <tr>\n",
       "      <th>2</th>\n",
       "      <td>4</td>\n",
       "      <td>1</td>\n",
       "      <td>0</td>\n",
       "      <td>3</td>\n",
       "      <td>2</td>\n",
       "      <td>2</td>\n",
       "      <td>2</td>\n",
       "      <td>2</td>\n",
       "      <td>0</td>\n",
       "      <td>0</td>\n",
       "      <td>0</td>\n",
       "      <td>0</td>\n",
       "      <td>4</td>\n",
       "      <td>0</td>\n",
       "      <td>0</td>\n",
       "    </tr>\n",
       "    <tr>\n",
       "      <th>3</th>\n",
       "      <td>3</td>\n",
       "      <td>4</td>\n",
       "      <td>2</td>\n",
       "      <td>3</td>\n",
       "      <td>1</td>\n",
       "      <td>0</td>\n",
       "      <td>2</td>\n",
       "      <td>0</td>\n",
       "      <td>0</td>\n",
       "      <td>0</td>\n",
       "      <td>4</td>\n",
       "      <td>0</td>\n",
       "      <td>0</td>\n",
       "      <td>0</td>\n",
       "      <td>0</td>\n",
       "    </tr>\n",
       "    <tr>\n",
       "      <th>4</th>\n",
       "      <td>3</td>\n",
       "      <td>3</td>\n",
       "      <td>2</td>\n",
       "      <td>4</td>\n",
       "      <td>0</td>\n",
       "      <td>1</td>\n",
       "      <td>0</td>\n",
       "      <td>0</td>\n",
       "      <td>4</td>\n",
       "      <td>0</td>\n",
       "      <td>0</td>\n",
       "      <td>0</td>\n",
       "      <td>0</td>\n",
       "      <td>0</td>\n",
       "      <td>0</td>\n",
       "    </tr>\n",
       "    <tr>\n",
       "      <th>5</th>\n",
       "      <td>2</td>\n",
       "      <td>3</td>\n",
       "      <td>4</td>\n",
       "      <td>3</td>\n",
       "      <td>1</td>\n",
       "      <td>0</td>\n",
       "      <td>4</td>\n",
       "      <td>0</td>\n",
       "      <td>0</td>\n",
       "      <td>0</td>\n",
       "      <td>0</td>\n",
       "      <td>0</td>\n",
       "      <td>0</td>\n",
       "      <td>0</td>\n",
       "      <td>0</td>\n",
       "    </tr>\n",
       "    <tr>\n",
       "      <th>6</th>\n",
       "      <td>1</td>\n",
       "      <td>2</td>\n",
       "      <td>1</td>\n",
       "      <td>3</td>\n",
       "      <td>0</td>\n",
       "      <td>0</td>\n",
       "      <td>0</td>\n",
       "      <td>0</td>\n",
       "      <td>0</td>\n",
       "      <td>0</td>\n",
       "      <td>0</td>\n",
       "      <td>0</td>\n",
       "      <td>4</td>\n",
       "      <td>0</td>\n",
       "      <td>4</td>\n",
       "    </tr>\n",
       "    <tr>\n",
       "      <th>7</th>\n",
       "      <td>3</td>\n",
       "      <td>0</td>\n",
       "      <td>1</td>\n",
       "      <td>0</td>\n",
       "      <td>2</td>\n",
       "      <td>4</td>\n",
       "      <td>0</td>\n",
       "      <td>0</td>\n",
       "      <td>0</td>\n",
       "      <td>0</td>\n",
       "      <td>0</td>\n",
       "      <td>4</td>\n",
       "      <td>0</td>\n",
       "      <td>0</td>\n",
       "      <td>0</td>\n",
       "    </tr>\n",
       "    <tr>\n",
       "      <th>8</th>\n",
       "      <td>0</td>\n",
       "      <td>3</td>\n",
       "      <td>1</td>\n",
       "      <td>2</td>\n",
       "      <td>0</td>\n",
       "      <td>0</td>\n",
       "      <td>0</td>\n",
       "      <td>0</td>\n",
       "      <td>4</td>\n",
       "      <td>4</td>\n",
       "      <td>0</td>\n",
       "      <td>0</td>\n",
       "      <td>0</td>\n",
       "      <td>0</td>\n",
       "      <td>0</td>\n",
       "    </tr>\n",
       "    <tr>\n",
       "      <th>9</th>\n",
       "      <td>1</td>\n",
       "      <td>2</td>\n",
       "      <td>0</td>\n",
       "      <td>3</td>\n",
       "      <td>0</td>\n",
       "      <td>0</td>\n",
       "      <td>0</td>\n",
       "      <td>4</td>\n",
       "      <td>0</td>\n",
       "      <td>0</td>\n",
       "      <td>0</td>\n",
       "      <td>4</td>\n",
       "      <td>0</td>\n",
       "      <td>0</td>\n",
       "      <td>0</td>\n",
       "    </tr>\n",
       "    <tr>\n",
       "      <th>10</th>\n",
       "      <td>3</td>\n",
       "      <td>0</td>\n",
       "      <td>2</td>\n",
       "      <td>1</td>\n",
       "      <td>0</td>\n",
       "      <td>0</td>\n",
       "      <td>0</td>\n",
       "      <td>0</td>\n",
       "      <td>0</td>\n",
       "      <td>0</td>\n",
       "      <td>4</td>\n",
       "      <td>0</td>\n",
       "      <td>0</td>\n",
       "      <td>4</td>\n",
       "      <td>0</td>\n",
       "    </tr>\n",
       "  </tbody>\n",
       "</table>\n",
       "</div>"
      ],
      "text/plain": [
       "Day    1   2   3   4   5   6   7   8   9   10  11  12  13  14  15\n",
       "Nurse                                                            \n",
       "1       2   1   3   0   4   1   4   3   1   3   1   1   1   3   3\n",
       "2       4   1   0   3   2   2   2   2   0   0   0   0   4   0   0\n",
       "3       3   4   2   3   1   0   2   0   0   0   4   0   0   0   0\n",
       "4       3   3   2   4   0   1   0   0   4   0   0   0   0   0   0\n",
       "5       2   3   4   3   1   0   4   0   0   0   0   0   0   0   0\n",
       "6       1   2   1   3   0   0   0   0   0   0   0   0   4   0   4\n",
       "7       3   0   1   0   2   4   0   0   0   0   0   4   0   0   0\n",
       "8       0   3   1   2   0   0   0   0   4   4   0   0   0   0   0\n",
       "9       1   2   0   3   0   0   0   4   0   0   0   4   0   0   0\n",
       "10      3   0   2   1   0   0   0   0   0   0   4   0   0   4   0"
      ]
     },
     "metadata": {},
     "output_type": "display_data"
    }
   ],
   "source": [
    "if status == pywraplp.Solver.OPTIMAL:\n",
    "    print(f'Minimum of objective function = {solver.Objective().Value()}\\n')\n",
    "    res = [[0 for n in range(N)] for d in range(D)]\n",
    "    for n in range(N):\n",
    "        for d in range(D):\n",
    "            for s in range(4):\n",
    "                if assign[n][d][s].solution_value() != 0:\n",
    "                    res[d][n] = s+1\n",
    "    df = pd.DataFrame(res, index = [d+1 for d in range(D)], columns = [n+1 for n in range(N)])\n",
    "    df.index.name = 'Nurse'\n",
    "    df.columns.name = 'Day'\n",
    "    display(df)\n",
    "else:\n",
    "    print('No optimal solution.')"
   ]
  },
  {
   "cell_type": "markdown",
   "id": "5ca20bf7-f593-4b7c-94aa-15cde555a4e9",
   "metadata": {},
   "source": [
    "### 2.8. Optimal solution"
   ]
  },
  {
   "cell_type": "code",
   "execution_count": 52,
   "id": "d627b8b1-30e9-40fa-934d-6e70b7c19ef0",
   "metadata": {},
   "outputs": [
    {
     "name": "stdout",
     "output_type": "stream",
     "text": [
      "Optimal solution - Max night shift assigned to a nurse: 2\n"
     ]
    }
   ],
   "source": [
    "maxNightShift = -1\n",
    "for n in range(N):\n",
    "    tmp = 0\n",
    "    for d in range(D):\n",
    "        if res[d][n] == 4:\n",
    "            tmp += 1\n",
    "    if tmp > maxNightShift:\n",
    "        maxNightShift = tmp\n",
    "        \n",
    "print('Optimal solution - Max night shift assigned to a nurse:', maxNightShift)"
   ]
  }
 ],
 "metadata": {
  "kernelspec": {
   "display_name": "Python 3 (ipykernel)",
   "language": "python",
   "name": "python3"
  },
  "language_info": {
   "codemirror_mode": {
    "name": "ipython",
    "version": 3
   },
   "file_extension": ".py",
   "mimetype": "text/x-python",
   "name": "python",
   "nbconvert_exporter": "python",
   "pygments_lexer": "ipython3",
   "version": "3.9.12"
  }
 },
 "nbformat": 4,
 "nbformat_minor": 5
}
