{
 "cells": [
  {
   "cell_type": "markdown",
   "id": "4c67c4e6-0e20-41b1-bddf-0a6d63ae0d7b",
   "metadata": {
    "tags": []
   },
   "source": [
    "### *IT3052E - Fundamentals of Optimization*\n",
    "# **Mini Project 18 - Nurse Scheduling Problem**\n",
    "#### **Techniques used**:\n",
    "* Backtracking,\n",
    "* Constraint Programming,\n",
    "* Linear Programming,\n",
    "* Local Search, and\n",
    "* Meta-heuristics (Genetic Algorithm).\n"
   ]
  },
  {
   "cell_type": "markdown",
   "id": "c6cae218-2f1e-426f-9a7a-27afd8f4797d",
   "metadata": {
    "tags": []
   },
   "source": [
    "#### * ***Import pandas for printing solution***"
   ]
  },
  {
   "cell_type": "code",
   "execution_count": 1,
   "id": "af3498c7-6b38-4514-8dcd-dbb96e703e38",
   "metadata": {
    "tags": []
   },
   "outputs": [],
   "source": [
    "import pandas as pd"
   ]
  },
  {
   "cell_type": "markdown",
   "id": "d5a5b79c-0ddf-475c-8696-83f838d72e79",
   "metadata": {
    "tags": []
   },
   "source": [
    "## 1. Constraint Programming"
   ]
  },
  {
   "cell_type": "markdown",
   "id": "f991c81a-0c8c-446f-9089-fd39b292188b",
   "metadata": {
    "tags": []
   },
   "source": [
    "### 1.1. Import modules and libraries"
   ]
  },
  {
   "cell_type": "code",
   "execution_count": 2,
   "id": "02af0462-fa93-4993-8e74-51cf383969a2",
   "metadata": {},
   "outputs": [],
   "source": [
    "from ortools.sat.python import cp_model"
   ]
  },
  {
   "cell_type": "markdown",
   "id": "0c27becc-d62e-4cb7-8720-904f4b39e302",
   "metadata": {
    "tags": []
   },
   "source": [
    "### 1.2. Read data from file"
   ]
  },
  {
   "cell_type": "markdown",
   "id": "86614a74-02a8-4ded-8095-3a3ad0ede843",
   "metadata": {
    "tags": []
   },
   "source": [
    "#### Read N, D, a, b and dayoff"
   ]
  },
  {
   "cell_type": "code",
   "execution_count": 3,
   "id": "760d8a4e-daf7-4568-8880-79b7b208e2b2",
   "metadata": {},
   "outputs": [],
   "source": [
    "with open('SampleData/testCase1/0.txt') as file:\n",
    "  N, D, a, b = [int(q) for q in file.readline().split()]\n",
    "  dayoff = [[0 for d in range(D)] for n in range(N)]\n",
    "  for n in range(N):\n",
    "    for d in [int(h) for h in file.readline().split()]:\n",
    "      if d != -1:\n",
    "            dayoff[n][d-1] = 1"
   ]
  },
  {
   "cell_type": "markdown",
   "id": "6ed95c63-b2e2-4a25-b740-defb1e220a93",
   "metadata": {
    "tags": []
   },
   "source": [
    "### 1.3. Create model"
   ]
  },
  {
   "cell_type": "code",
   "execution_count": 4,
   "id": "5cdd9fe5-104e-4fb3-9a67-d90c8d3d7265",
   "metadata": {},
   "outputs": [],
   "source": [
    "model = cp_model.CpModel()\n",
    "assign = [[[ None for s in range(4)] for d in range(D)] for n in range(N)]\n",
    "for n in range(N):\n",
    "    for d in range(D):\n",
    "        for s in range(4):\n",
    "            assign[n][d][s] = model.NewIntVar(0, 1, f'x_{n}_{d}_{s}')\n",
    "t = model.NewIntVar(0, D, 't')"
   ]
  },
  {
   "cell_type": "markdown",
   "id": "c39736a5-c75c-418e-b761-17348c170123",
   "metadata": {
    "tags": []
   },
   "source": [
    "### 1.4. Generate constraint"
   ]
  },
  {
   "cell_type": "markdown",
   "id": "1bf795dc-9147-41ee-a11f-ef33be1f8044",
   "metadata": {
    "tags": []
   },
   "source": [
    "#### 1.4.1. A nurse can be assigned to only one shift per day."
   ]
  },
  {
   "cell_type": "code",
   "execution_count": 5,
   "id": "785614b8-0370-45fa-b665-7d5d0f2b9b47",
   "metadata": {},
   "outputs": [],
   "source": [
    "for n in range(N):\n",
    "    for d in range(D):\n",
    "        p = 0\n",
    "        for s in range(4):\n",
    "            p += assign[n][d][s]\n",
    "        model.Add(p <= 1)"
   ]
  },
  {
   "cell_type": "markdown",
   "id": "f1170f59-c315-4c9e-ae29-34ab63a7d907",
   "metadata": {
    "tags": []
   },
   "source": [
    "#### 1.4.2. Each shift has min $a$ nurses and max $b$ nurses."
   ]
  },
  {
   "cell_type": "code",
   "execution_count": 6,
   "id": "9a9f705e-c517-4a00-bce6-9db2ee6fba9d",
   "metadata": {},
   "outputs": [],
   "source": [
    "for d in range(D):\n",
    "    for s in range(4):\n",
    "        p = 0\n",
    "        for n in range(N):\n",
    "            p += assign[n][d][s]\n",
    "        model.Add(p >= a)\n",
    "        model.Add(p <= b)"
   ]
  },
  {
   "cell_type": "markdown",
   "id": "b2733770-9dd1-4bd6-b5b3-a2917ac588e0",
   "metadata": {
    "tags": []
   },
   "source": [
    "#### 1.4.3. A nurse worked night shift in the previous day has the next day off."
   ]
  },
  {
   "cell_type": "code",
   "execution_count": 7,
   "id": "462fc5fc-4138-44e0-b9d1-529e57c969cc",
   "metadata": {},
   "outputs": [],
   "source": [
    "for n in range(N):\n",
    "    for d in range(1,D):\n",
    "        p = 0\n",
    "        for s in range(4):\n",
    "            p += assign[n][d][s]\n",
    "        model.Add(p + assign[n][d-1][3] >= 1-dayoff[n][d])\n",
    "        \n",
    "d = 0\n",
    "for n in range(N):\n",
    "    p = 0\n",
    "    for s in range(4):\n",
    "        p += assign[n][d][s]\n",
    "    model.Add(p >= 1 - dayoff[n][d])"
   ]
  },
  {
   "cell_type": "markdown",
   "id": "e93e36d6-1db6-401f-bd8a-4e3689c30daf",
   "metadata": {
    "tags": []
   },
   "source": [
    "### 1.5. Set objective function"
   ]
  },
  {
   "cell_type": "markdown",
   "id": "9ca4d2de-6a8e-47ae-9c3f-e89e055caa91",
   "metadata": {},
   "source": [
    "#### Minimize the max night shift"
   ]
  },
  {
   "cell_type": "code",
   "execution_count": 8,
   "id": "4bffea18-3788-4bcb-8a0c-5a12312dcbbd",
   "metadata": {
    "tags": []
   },
   "outputs": [],
   "source": [
    "for n in range(N):\n",
    "    p = 0\n",
    "    for d in range(D):\n",
    "        p += assign[n][d][3]\n",
    "    model.Add(t - p >= 0)"
   ]
  },
  {
   "cell_type": "code",
   "execution_count": 9,
   "id": "32bb6b87-a90e-4f70-9d26-c99edd863962",
   "metadata": {},
   "outputs": [],
   "source": [
    "model.Minimize(t)"
   ]
  },
  {
   "cell_type": "markdown",
   "id": "9c207e33-2ec4-4881-b395-dddbe67602f0",
   "metadata": {
    "tags": []
   },
   "source": [
    "### 1.6. Invoke the model"
   ]
  },
  {
   "cell_type": "code",
   "execution_count": 10,
   "id": "f9357353-83c8-4167-ad4d-2d2d4cc7c2bf",
   "metadata": {},
   "outputs": [],
   "source": [
    "solver = cp_model.CpSolver()\n",
    "status = solver.Solve(model)"
   ]
  },
  {
   "cell_type": "markdown",
   "id": "3a7f07ff-15c0-402d-9072-e2df3f14e42a",
   "metadata": {
    "tags": []
   },
   "source": [
    "### 1.7. Print the solution"
   ]
  },
  {
   "cell_type": "code",
   "execution_count": 11,
   "id": "7f76039b-a625-4541-87c8-3a333671960a",
   "metadata": {
    "tags": []
   },
   "outputs": [
    {
     "name": "stdout",
     "output_type": "stream",
     "text": [
      "Minimum of objective function: 1.0\n",
      "\n"
     ]
    },
    {
     "data": {
      "text/html": [
       "<div>\n",
       "<style scoped>\n",
       "    .dataframe tbody tr th:only-of-type {\n",
       "        vertical-align: middle;\n",
       "    }\n",
       "\n",
       "    .dataframe tbody tr th {\n",
       "        vertical-align: top;\n",
       "    }\n",
       "\n",
       "    .dataframe thead th {\n",
       "        text-align: right;\n",
       "    }\n",
       "</style>\n",
       "<table border=\"1\" class=\"dataframe\">\n",
       "  <thead>\n",
       "    <tr style=\"text-align: right;\">\n",
       "      <th>Day</th>\n",
       "      <th>1</th>\n",
       "      <th>2</th>\n",
       "      <th>3</th>\n",
       "      <th>4</th>\n",
       "      <th>5</th>\n",
       "      <th>6</th>\n",
       "      <th>7</th>\n",
       "      <th>8</th>\n",
       "      <th>9</th>\n",
       "      <th>10</th>\n",
       "    </tr>\n",
       "    <tr>\n",
       "      <th>Nurse</th>\n",
       "      <th></th>\n",
       "      <th></th>\n",
       "      <th></th>\n",
       "      <th></th>\n",
       "      <th></th>\n",
       "      <th></th>\n",
       "      <th></th>\n",
       "      <th></th>\n",
       "      <th></th>\n",
       "      <th></th>\n",
       "    </tr>\n",
       "  </thead>\n",
       "  <tbody>\n",
       "    <tr>\n",
       "      <th>1</th>\n",
       "      <td>2</td>\n",
       "      <td>2</td>\n",
       "      <td>4</td>\n",
       "      <td>0</td>\n",
       "      <td>1</td>\n",
       "      <td>1</td>\n",
       "      <td>0</td>\n",
       "      <td>1</td>\n",
       "      <td>1</td>\n",
       "      <td>3</td>\n",
       "    </tr>\n",
       "    <tr>\n",
       "      <th>2</th>\n",
       "      <td>3</td>\n",
       "      <td>4</td>\n",
       "      <td>2</td>\n",
       "      <td>1</td>\n",
       "      <td>0</td>\n",
       "      <td>0</td>\n",
       "      <td>1</td>\n",
       "      <td>1</td>\n",
       "      <td>0</td>\n",
       "      <td>1</td>\n",
       "    </tr>\n",
       "    <tr>\n",
       "      <th>3</th>\n",
       "      <td>3</td>\n",
       "      <td>0</td>\n",
       "      <td>2</td>\n",
       "      <td>0</td>\n",
       "      <td>2</td>\n",
       "      <td>4</td>\n",
       "      <td>1</td>\n",
       "      <td>1</td>\n",
       "      <td>1</td>\n",
       "      <td>1</td>\n",
       "    </tr>\n",
       "    <tr>\n",
       "      <th>4</th>\n",
       "      <td>2</td>\n",
       "      <td>0</td>\n",
       "      <td>3</td>\n",
       "      <td>4</td>\n",
       "      <td>4</td>\n",
       "      <td>0</td>\n",
       "      <td>0</td>\n",
       "      <td>1</td>\n",
       "      <td>1</td>\n",
       "      <td>1</td>\n",
       "    </tr>\n",
       "    <tr>\n",
       "      <th>5</th>\n",
       "      <td>2</td>\n",
       "      <td>1</td>\n",
       "      <td>3</td>\n",
       "      <td>0</td>\n",
       "      <td>0</td>\n",
       "      <td>0</td>\n",
       "      <td>4</td>\n",
       "      <td>4</td>\n",
       "      <td>4</td>\n",
       "      <td>4</td>\n",
       "    </tr>\n",
       "    <tr>\n",
       "      <th>6</th>\n",
       "      <td>4</td>\n",
       "      <td>2</td>\n",
       "      <td>3</td>\n",
       "      <td>1</td>\n",
       "      <td>0</td>\n",
       "      <td>1</td>\n",
       "      <td>0</td>\n",
       "      <td>0</td>\n",
       "      <td>0</td>\n",
       "      <td>0</td>\n",
       "    </tr>\n",
       "  </tbody>\n",
       "</table>\n",
       "</div>"
      ],
      "text/plain": [
       "Day    1   2   3   4   5   6   7   8   9   10\n",
       "Nurse                                        \n",
       "1       2   2   4   0   1   1   0   1   1   3\n",
       "2       3   4   2   1   0   0   1   1   0   1\n",
       "3       3   0   2   0   2   4   1   1   1   1\n",
       "4       2   0   3   4   4   0   0   1   1   1\n",
       "5       2   1   3   0   0   0   4   4   4   4\n",
       "6       4   2   3   1   0   1   0   0   0   0"
      ]
     },
     "metadata": {},
     "output_type": "display_data"
    }
   ],
   "source": [
    "if status == cp_model.OPTIMAL:\n",
    "    print(f'Minimum of objective function: {solver.ObjectiveValue()}\\n')\n",
    "    res = [[0 for n in range(N)] for d in range(D)]\n",
    "    for n in range(N):\n",
    "        for d in range(D):\n",
    "            for s in range(4):\n",
    "                if solver.Value(assign[n][d][s]) != 0:\n",
    "                    res[d][n] = s+1\n",
    "    df = pd.DataFrame(res, index = [d+1 for d in range(D)], columns = [n+1 for n in range(N)])\n",
    "    df.index.name = 'Day'\n",
    "    df.columns.name = 'Nurse'\n",
    "    display(df)\n",
    "else:\n",
    "    print('No optimal solution.')"
   ]
  },
  {
   "cell_type": "markdown",
   "id": "cac74f15-bac8-407e-a968-a256fe8dbe0c",
   "metadata": {},
   "source": [
    "### 1.8. Optimal solution"
   ]
  },
  {
   "cell_type": "code",
   "execution_count": 12,
   "id": "e44d580d-3e66-4e95-b172-803d2b6b173f",
   "metadata": {},
   "outputs": [
    {
     "name": "stdout",
     "output_type": "stream",
     "text": [
      "Optimal solution - Max night shift assigned to a nurse: 1\n"
     ]
    }
   ],
   "source": [
    "maxNightShift = -1\n",
    "for n in range(N):\n",
    "    tmp = 0\n",
    "    for d in range(D):\n",
    "        if res[d][n] == 4:\n",
    "            tmp += 1\n",
    "    if tmp > maxNightShift:\n",
    "        maxNightShift = tmp\n",
    "        \n",
    "print('Optimal solution - Max night shift assigned to a nurse:', maxNightShift)"
   ]
  }
 ],
 "metadata": {
  "environment": {
   "kernel": "python3",
   "name": "common-cpu.m103",
   "type": "gcloud",
   "uri": "gcr.io/deeplearning-platform-release/base-cpu:m103"
  },
  "kernelspec": {
   "display_name": "Python 3",
   "language": "python",
   "name": "python3"
  },
  "language_info": {
   "codemirror_mode": {
    "name": "ipython",
    "version": 3
   },
   "file_extension": ".py",
   "mimetype": "text/x-python",
   "name": "python",
   "nbconvert_exporter": "python",
   "pygments_lexer": "ipython3",
   "version": "3.7.12"
  }
 },
 "nbformat": 4,
 "nbformat_minor": 5
}
