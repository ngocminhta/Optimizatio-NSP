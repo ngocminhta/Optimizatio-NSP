{
 "cells": [
  {
   "cell_type": "markdown",
   "id": "20601576-b0ff-497d-aca9-212d81a64707",
   "metadata": {
    "tags": []
   },
   "source": [
    "### *IT3052E - Fundamentals of Optimization*\n",
    "# **Mini Project 18 - Nurse Scheduling Problem**\n",
    "#### **Techniques used**:\n",
    "* Greedy algorithm and Backtracking,\n",
    "* Constraint Programming,\n",
    "* Linear Programming,\n",
    "* Heuristics, and\n",
    "* Meta-heuristic (Genetic Algorithm)."
   ]
  },
  {
   "cell_type": "markdown",
   "id": "6947b85e-85ce-447c-a034-2e42e0d2e226",
   "metadata": {
    "tags": []
   },
   "source": [
    "#### * ***Import pandas for printing solution***"
   ]
  },
  {
   "cell_type": "code",
   "execution_count": null,
   "id": "e99a3074-7fb2-4a7e-9708-e205bc930b8e",
   "metadata": {},
   "outputs": [],
   "source": [
    "import pandas as pd"
   ]
  },
  {
   "cell_type": "markdown",
   "id": "ce1313bb-297c-40a1-99fa-522273f901d5",
   "metadata": {
    "tags": []
   },
   "source": [
    "## 1. Constraint Programming"
   ]
  },
  {
   "cell_type": "markdown",
   "id": "98867e40-550f-40e1-9f71-62b1d68df631",
   "metadata": {
    "tags": []
   },
   "source": [
    "### 1.1. Import Or-tools and pandas"
   ]
  },
  {
   "cell_type": "code",
   "execution_count": null,
   "id": "674ed728-5034-4f5f-96a6-e678e863da3b",
   "metadata": {},
   "outputs": [],
   "source": [
    "from ortools.sat.python import cp_model"
   ]
  },
  {
   "cell_type": "markdown",
   "id": "71e66a07-3d27-4518-aaf0-695945fdef95",
   "metadata": {
    "tags": []
   },
   "source": [
    "### 1.2. Read data from file"
   ]
  },
  {
   "cell_type": "markdown",
   "id": "fafd5475-05fa-40dc-ac78-f1734e41324d",
   "metadata": {
    "tags": []
   },
   "source": [
    "#### Read N, D, a, b and dayoff"
   ]
  },
  {
   "cell_type": "code",
   "execution_count": null,
   "id": "bd3de172-8c83-4c17-8f27-997241603ca3",
   "metadata": {},
   "outputs": [],
   "source": [
    "with open('SampleData/testCase1/0.txt') as file:\n",
    "  N, D, a, b = [int(q) for q in file.readline().split()]\n",
    "  dayoff = [[0 for d in range(D)] for n in range(N)]\n",
    "  for n in range(N):\n",
    "    for d in [int(h) for h in file.readline().split()]:\n",
    "      if d != -1:\n",
    "            dayoff[n][d-1] = 1"
   ]
  },
  {
   "cell_type": "markdown",
   "id": "2ee05baf-7b0c-4b09-8b56-fee0c77bf220",
   "metadata": {
    "tags": []
   },
   "source": [
    "### 1.3. Create model"
   ]
  },
  {
   "cell_type": "code",
   "execution_count": null,
   "id": "e4806da1-0148-4b54-a6c5-95370eb2214b",
   "metadata": {},
   "outputs": [],
   "source": [
    "model = cp_model.CpModel()\n",
    "assign = [[[ None for s in range(4)] for d in range(D)] for n in range(N)]\n",
    "for n in range(N):\n",
    "    for d in range(D):\n",
    "        for s in range(4):\n",
    "            assign[n][d][s] = model.NewIntVar(0, 1, f'x_{n}_{d}_{s}')\n",
    "t = model.NewIntVar(0, D, 't')"
   ]
  },
  {
   "cell_type": "markdown",
   "id": "3846f68d-8857-4a2a-8be0-6250fc20a96a",
   "metadata": {
    "tags": []
   },
   "source": [
    "### 1.4. Generate constraint"
   ]
  },
  {
   "cell_type": "markdown",
   "id": "b556f4c0-7d14-4be0-bb47-3b36560c1d84",
   "metadata": {
    "tags": []
   },
   "source": [
    "#### 1.4.1. A nurse can be assigned to only one shift per day."
   ]
  },
  {
   "cell_type": "code",
   "execution_count": null,
   "id": "06bb6fd0-67f8-4b21-ae9f-7f53c9af3d0e",
   "metadata": {},
   "outputs": [],
   "source": [
    "for n in range(N):\n",
    "    for d in range(D):\n",
    "        p = 0\n",
    "        for s in range(4):\n",
    "            p += assign[n][d][s]\n",
    "        model.Add(p <= 1)"
   ]
  },
  {
   "cell_type": "markdown",
   "id": "31319b3b-c319-4b39-8b2f-36991c9b3afa",
   "metadata": {
    "tags": []
   },
   "source": [
    "#### 1.4.2. Each shift has min $a$ nurses and max $b$ nurses."
   ]
  },
  {
   "cell_type": "code",
   "execution_count": null,
   "id": "096c787f-0838-44b8-b747-7063dabccfe0",
   "metadata": {},
   "outputs": [],
   "source": [
    "for d in range(D):\n",
    "    for s in range(4):\n",
    "        p = 0\n",
    "        for n in range(N):\n",
    "            p += assign[n][d][s]\n",
    "        model.Add(p >= a)\n",
    "        model.Add(p <= b)"
   ]
  },
  {
   "cell_type": "markdown",
   "id": "84425537-64b6-4754-ae6a-baaa6107835e",
   "metadata": {
    "tags": []
   },
   "source": [
    "#### 1.4.3. A nurse worked night shift in the previous day has the next day off."
   ]
  },
  {
   "cell_type": "code",
   "execution_count": null,
   "id": "ad37573d-f079-4247-80e7-5b9a2f870b67",
   "metadata": {},
   "outputs": [],
   "source": [
    "for n in range(N):\n",
    "    for d in range(1,D):\n",
    "        p = 0\n",
    "        for s in range(4):\n",
    "            p += assign[n][d][s]\n",
    "        model.Add(p + assign[n][d-1][3] >= 1-dayoff[n][d])\n",
    "        \n",
    "d = 0\n",
    "for n in range(N):\n",
    "    p = 0\n",
    "    for s in range(4):\n",
    "        p += assign[n][d][s]\n",
    "    model.Add(p >= 1 - dayoff[n][d])"
   ]
  },
  {
   "cell_type": "markdown",
   "id": "5476e4da-a038-44b1-b132-eaf0400e5711",
   "metadata": {
    "tags": []
   },
   "source": [
    "### 1.5. Set objective function"
   ]
  },
  {
   "cell_type": "markdown",
   "id": "4bf01d11-d07c-439e-a96c-08fd24ef2d17",
   "metadata": {},
   "source": [
    "#### Minimize the max night shift"
   ]
  },
  {
   "cell_type": "code",
   "execution_count": null,
   "id": "adc1897b-1fa1-4d17-8019-288934026f86",
   "metadata": {
    "tags": []
   },
   "outputs": [],
   "source": [
    "for n in range(N):\n",
    "    p = 0\n",
    "    for d in range(D):\n",
    "        p += assign[n][d][3]\n",
    "    model.Add(t - p >= 0)"
   ]
  },
  {
   "cell_type": "code",
   "execution_count": null,
   "id": "39904db8-1bef-4ec8-be82-168059051abb",
   "metadata": {},
   "outputs": [],
   "source": [
    "model.Minimize(t)"
   ]
  },
  {
   "cell_type": "markdown",
   "id": "5d0bc2e2-03ca-4dee-aff5-89e8b3da4d6f",
   "metadata": {
    "tags": []
   },
   "source": [
    "### 1.6. Invoke the model"
   ]
  },
  {
   "cell_type": "code",
   "execution_count": null,
   "id": "3b50f01a-beff-4e68-9605-66375cdf2c3c",
   "metadata": {},
   "outputs": [],
   "source": [
    "solver = cp_model.CpSolver()\n",
    "status = solver.Solve(model)"
   ]
  },
  {
   "cell_type": "markdown",
   "id": "4ee4cfcf-f55a-47f7-a9a5-5026828c1aa3",
   "metadata": {
    "tags": []
   },
   "source": [
    "### 1.7. Print the solution"
   ]
  },
  {
   "cell_type": "code",
   "execution_count": null,
   "id": "51aa64b0-742e-497c-8faf-39bf95a321e0",
   "metadata": {},
   "outputs": [],
   "source": [
    "if status == cp_model.OPTIMAL:\n",
    "    print(f'Minimum of objective function: {solver.ObjectiveValue()}\\n')\n",
    "    res = [[0 for n in range(N)] for d in range(D)]\n",
    "    for n in range(N):\n",
    "        for d in range(D):\n",
    "            for s in range(4):\n",
    "                if solver.Value(assign[n][d][s]) != 0:\n",
    "                    res[d][n] = s+1\n",
    "    df = pd.DataFrame(res, index = [d+1 for d in range(D)], columns = [n+1 for n in range(N)])\n",
    "    df.index.name = 'Nurse'\n",
    "    df.columns.name = 'Day'\n",
    "    display(df)\n",
    "else:\n",
    "    print('No optimal solution.')"
   ]
  },
  {
   "cell_type": "markdown",
   "id": "d5058610-97fa-46d6-9829-5d5d237cd663",
   "metadata": {
    "tags": []
   },
   "source": [
    "## 2. Linear Programming"
   ]
  },
  {
   "cell_type": "markdown",
   "id": "29b88ab5-94a5-4957-8638-b022265f3285",
   "metadata": {
    "tags": []
   },
   "source": [
    "### 2.1. Import Or-tools"
   ]
  },
  {
   "cell_type": "code",
   "execution_count": null,
   "id": "0778096e-b205-4fb0-9460-934a3ad24269",
   "metadata": {},
   "outputs": [],
   "source": [
    "from ortools.linear_solver import pywraplp"
   ]
  },
  {
   "cell_type": "markdown",
   "id": "60243f7a-2fa2-4110-a1bf-b9123a829d3c",
   "metadata": {
    "tags": []
   },
   "source": [
    "### 2.2. Read data from file"
   ]
  },
  {
   "cell_type": "markdown",
   "id": "a529053c-1c2f-4ee9-903c-f04052482eeb",
   "metadata": {},
   "source": [
    "#### Read N, D, a, b and dayoff"
   ]
  },
  {
   "cell_type": "code",
   "execution_count": null,
   "id": "08a19dc1-8756-4f09-bae0-e193cf6063e9",
   "metadata": {},
   "outputs": [],
   "source": [
    "with open('SampleData/testCase1/0.txt') as file:\n",
    "    N, D, a, b = [int(x) for x in file.readline().split()]\n",
    "    dayoff = [[0 for d in range(D)] for n in range(N)]\n",
    "    for n in range(N):\n",
    "      for do in [int(x) for x in file.readline().split()]:\n",
    "        if do != -1:\n",
    "          dayoff[n][do - 1] = 1"
   ]
  },
  {
   "cell_type": "markdown",
   "id": "8c348706-2816-448b-a7aa-c0dca32e88d8",
   "metadata": {
    "tags": []
   },
   "source": [
    "### 2.3. Create model"
   ]
  },
  {
   "cell_type": "code",
   "execution_count": null,
   "id": "3a99ebea-df7c-4d43-ae8e-ec6d11e35066",
   "metadata": {},
   "outputs": [],
   "source": [
    "solver = pywraplp.Solver.CreateSolver('GLOP')\n",
    "\n",
    "assign = [[[-1 for s in range(4)] for d in range(D)] for n in range(N)]\n",
    "for n in range(N):\n",
    "  for d in range(D):\n",
    "    for s in range(4):\n",
    "      assign[n][d][s] = solver.IntVar(0, 1, f'assign_{n}_{d}_{s}')\n",
    "\n",
    "t = solver.IntVar(0, d, 't')"
   ]
  },
  {
   "cell_type": "markdown",
   "id": "b8ba325a-4150-4f39-8d00-ea1aafd14e5a",
   "metadata": {
    "tags": []
   },
   "source": [
    "### 2.4. Generate constraint"
   ]
  },
  {
   "cell_type": "markdown",
   "id": "49b2b91d-df57-4ea6-851c-820be3205794",
   "metadata": {
    "tags": []
   },
   "source": [
    "#### 2.4.1. A nurse can be assigned to only one shift per day."
   ]
  },
  {
   "cell_type": "code",
   "execution_count": null,
   "id": "2ccfbd71-4af5-44aa-b077-6ee261da6705",
   "metadata": {},
   "outputs": [],
   "source": [
    "for d in range(D):\n",
    "  for n in range(N):\n",
    "    p = 0\n",
    "    for s in range(4):\n",
    "        p += assign[n][d][s]\n",
    "    solver.Add(p <= 1)"
   ]
  },
  {
   "cell_type": "markdown",
   "id": "476043dd-8a00-4d02-b897-a69cc4db9684",
   "metadata": {
    "tags": []
   },
   "source": [
    "#### 2.4.2. Each shift has min $a$ nurses and max $b$ nurses."
   ]
  },
  {
   "cell_type": "code",
   "execution_count": null,
   "id": "a75f203a-7eaa-4e3b-86ac-64c98ede1ffa",
   "metadata": {},
   "outputs": [],
   "source": [
    "for d in range(D):\n",
    "  for s in range(4):\n",
    "    p = 0\n",
    "    for n in range(N):\n",
    "        p += assign[n][d][s]\n",
    "    solver.Add(p >= a)\n",
    "    solver.Add(p <= b)"
   ]
  },
  {
   "cell_type": "markdown",
   "id": "67ef4352-410e-4695-a8a5-a454d1b00c2f",
   "metadata": {
    "tags": []
   },
   "source": [
    "#### 2.4.3. A nurse worked night shift in the previous day has the next day off."
   ]
  },
  {
   "cell_type": "code",
   "execution_count": null,
   "id": "4798d11e-5bcb-41b4-8753-15b27d977007",
   "metadata": {},
   "outputs": [],
   "source": [
    "for n in range(N):\n",
    "  for d in range(1,d):\n",
    "    p = 0\n",
    "    for s in range(4):\n",
    "        p += assign[n][d][s]\n",
    "    solver.Add(p + assign[n][d-1][3] >= 1 - dayoff[n][d])\n",
    "    \n",
    "d = 0\n",
    "for n in range(N):\n",
    "    p = 0\n",
    "    for s in range(4):\n",
    "        p += assign[n][d][s]\n",
    "    solver.Add(p >= 1 - dayoff[n][d])"
   ]
  },
  {
   "cell_type": "markdown",
   "id": "5fbd4a24-af9b-4896-960d-0f178160b75a",
   "metadata": {
    "tags": []
   },
   "source": [
    "### 2.5. Set objective function"
   ]
  },
  {
   "cell_type": "markdown",
   "id": "fc716974-a267-460b-9c8c-314f028135d9",
   "metadata": {
    "tags": []
   },
   "source": [
    "#### Minimize the max night shift"
   ]
  },
  {
   "cell_type": "code",
   "execution_count": null,
   "id": "cdc71ff1-5ac4-4222-b6ec-2e2f82186063",
   "metadata": {},
   "outputs": [],
   "source": [
    "for n in range(N):\n",
    "    p = 0\n",
    "    for d in range(D):\n",
    "        p += assign[n][d][3]\n",
    "    solver.Add(t - p >= 0)"
   ]
  },
  {
   "cell_type": "code",
   "execution_count": null,
   "id": "163dbbf2-b5af-4933-a5e9-0fd4fc04ba57",
   "metadata": {},
   "outputs": [],
   "source": [
    "solver.Minimize(t)"
   ]
  },
  {
   "cell_type": "markdown",
   "id": "2064f51c-bdb4-496d-9b92-bc56cfbbddef",
   "metadata": {
    "tags": []
   },
   "source": [
    "### 2.6. Invoke the model"
   ]
  },
  {
   "cell_type": "code",
   "execution_count": null,
   "id": "434ab7d4-bb55-4f96-973a-eb782917db6d",
   "metadata": {},
   "outputs": [],
   "source": [
    "status = solver.Solve()"
   ]
  },
  {
   "cell_type": "markdown",
   "id": "88fe56ff-6d8e-431d-b18d-e7db45e497d2",
   "metadata": {
    "tags": []
   },
   "source": [
    "### 2.7. Print the solution"
   ]
  },
  {
   "cell_type": "code",
   "execution_count": null,
   "id": "687a5069-5c51-4cfe-b3f9-886f1e6164ac",
   "metadata": {},
   "outputs": [],
   "source": [
    "if status == pywraplp.Solver.OPTIMAL:\n",
    "    print(f'Minimum of objective function = {solver.Objective().Value()}\\n')\n",
    "    res = [[0 for n in range(N)] for d in range(D)]\n",
    "    for n in range(N):\n",
    "        for d in range(D):\n",
    "            for s in range(4):\n",
    "                if assign[n][d][s].solution_value() != 0:\n",
    "                    res[d][n] = s+1\n",
    "    df = pd.DataFrame(res, index = [d+1 for d in range(D)], columns = [n+1 for n in range(N)])\n",
    "    df.index.name = 'Nurse'\n",
    "    df.columns.name = 'Day'\n",
    "    display(df)\n",
    "else:\n",
    "    print('No optimal solution.')"
   ]
  }
 ],
 "metadata": {
  "kernelspec": {
   "display_name": "Python 3 (ipykernel)",
   "language": "python",
   "name": "python3"
  },
  "language_info": {
   "codemirror_mode": {
    "name": "ipython",
    "version": 3
   },
   "file_extension": ".py",
   "mimetype": "text/x-python",
   "name": "python",
   "nbconvert_exporter": "python",
   "pygments_lexer": "ipython3",
   "version": "3.9.12"
  }
 },
 "nbformat": 4,
 "nbformat_minor": 5
}
