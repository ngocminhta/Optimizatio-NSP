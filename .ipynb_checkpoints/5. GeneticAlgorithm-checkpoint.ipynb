{
 "cells": [
  {
   "cell_type": "markdown",
   "id": "d7e37e12-02ab-4d14-9381-52cd1111dfdb",
   "metadata": {
    "tags": []
   },
   "source": [
    "### *IT3052E - Fundamentals of Optimization*\n",
    "# **Mini Project 18 - Nurse Scheduling Problem**\n",
    "#### **Techniques used**:\n",
    "* Backtracking,\n",
    "* Constraint Programming,\n",
    "* Linear Programming,\n",
    "* Local Search, and\n",
    "* Meta-heuristics (Genetic Algorithm)."
   ]
  },
  {
   "cell_type": "markdown",
   "id": "46eb44de-a3b3-4f75-862a-0dc91fecf855",
   "metadata": {
    "tags": []
   },
   "source": [
    "#### * ***Import pandas for printing solution***"
   ]
  },
  {
   "cell_type": "code",
   "execution_count": null,
   "id": "7c884acf-ed29-4d9c-8824-6203bf67b888",
   "metadata": {
    "tags": []
   },
   "outputs": [],
   "source": [
    "import pandas as pd"
   ]
  },
  {
   "cell_type": "markdown",
   "id": "e9561799-5b72-4929-864c-521af3ab616a",
   "metadata": {
    "tags": []
   },
   "source": [
    "## 5. Genetic Algorithm"
   ]
  },
  {
   "cell_type": "markdown",
   "id": "61293381-620d-47d1-9069-9a3daf33a533",
   "metadata": {
    "tags": []
   },
   "source": [
    "### 5.1. Import modules and libraries"
   ]
  },
  {
   "cell_type": "code",
   "execution_count": null,
   "id": "82832bae-fa65-47a8-a238-ba8d3bbed323",
   "metadata": {},
   "outputs": [],
   "source": [
    "from deap import base\n",
    "from deap import creator\n",
    "from deap import tools\n",
    "import random\n",
    "import numpy\n",
    "from GeneticAlgorithm import Elitism\n",
    "from GeneticAlgorithm import Initialization"
   ]
  },
  {
   "cell_type": "markdown",
   "id": "4812b294-368a-4718-8891-9456105a087c",
   "metadata": {
    "tags": []
   },
   "source": [
    "### 5.2. Read data from file"
   ]
  },
  {
   "cell_type": "markdown",
   "id": "f870b334-3436-476d-878b-65f7a9f5a1fc",
   "metadata": {
    "tags": []
   },
   "source": [
    "#### Read N, D, a, b and dayoff"
   ]
  },
  {
   "cell_type": "code",
   "execution_count": null,
   "id": "90b64d39-5d1f-432e-b2f0-793bcf98b829",
   "metadata": {},
   "outputs": [],
   "source": [
    "with open('SampleData/testCase1/0.txt') as file:\n",
    "  N, D, a, b = [int(q) for q in file.readline().split()]\n",
    "  dayoff = [[0 for d in range(D)] for n in range(N)]\n",
    "  for n in range(N):\n",
    "    for d in [int(h) for h in file.readline().split()]:\n",
    "      if d != -1:\n",
    "            dayoff[n][d-1] = 1"
   ]
  },
  {
   "cell_type": "markdown",
   "id": "062b8eda-0cac-46c0-93ff-9253f78eaedc",
   "metadata": {},
   "source": [
    "### 5.3. Initialize the instances"
   ]
  },
  {
   "cell_type": "markdown",
   "id": "5c884a55-07f0-4e19-b72a-c6f9d3db4a3e",
   "metadata": {},
   "source": [
    "#### 5.3.1. Generate genetic constants and penalty factor for a hard-constraint violation"
   ]
  },
  {
   "cell_type": "code",
   "execution_count": null,
   "id": "244c37fd-4333-413a-a529-152519fa8919",
   "metadata": {},
   "outputs": [],
   "source": [
    "POPULATION_SIZE = 1000  # 300\n",
    "P_CROSSOVER = 0.95  # probability for crossover\n",
    "P_MUTATION = 0.05  # probability for mutating an individual\n",
    "MAX_GENERATIONS = 200  # 200\n",
    "HALL_OF_FAME_SIZE = 30\n",
    "HARD_CONSTRAINT_PENALTY = 10"
   ]
  },
  {
   "cell_type": "markdown",
   "id": "765c89d6-3a8d-4b36-80dc-45cb64d74812",
   "metadata": {},
   "source": [
    "#### 5.3.2. Create the instance to be used"
   ]
  },
  {
   "cell_type": "code",
   "execution_count": null,
   "id": "165a6fe0-9c98-436b-b897-412c80b0d6f0",
   "metadata": {},
   "outputs": [],
   "source": [
    "nsp = Initialization.NurseSchedulingProblem(HARD_CONSTRAINT_PENALTY, N, D, a, b, dayoff)"
   ]
  },
  {
   "cell_type": "markdown",
   "id": "15ac1fdf-b4ea-40cc-8d50-7d28b2fe44bb",
   "metadata": {},
   "source": [
    "#### 5.3.3. Define a single objective, maximizing fitness strategy"
   ]
  },
  {
   "cell_type": "code",
   "execution_count": null,
   "id": "86cffd56-350f-476b-847f-0e325f94b46b",
   "metadata": {},
   "outputs": [],
   "source": [
    "creator.create(\"FitnessMin\", base.Fitness, weights=(-1.0,))"
   ]
  },
  {
   "cell_type": "markdown",
   "id": "a24202a0-5f19-4266-8df8-a2d7cc05a681",
   "metadata": {},
   "source": [
    "#### 5.3.4. Other instances"
   ]
  },
  {
   "cell_type": "code",
   "execution_count": null,
   "id": "9a1f824c-0d17-4bb6-9d70-2a2f442e581a",
   "metadata": {},
   "outputs": [],
   "source": [
    "# Create the Individual class based on list:\n",
    "creator.create(\"Individual\", list, fitness=creator.FitnessMin)\n",
    "\n",
    "# set the random seed:\n",
    "RANDOM_SEED = 42\n",
    "random.seed(RANDOM_SEED)\n",
    "\n",
    "toolbox = base.Toolbox()\n",
    "# Create an operator that randomly returns 0 or 1:\n",
    "toolbox.register(\"zeroOrOne\", random.randint, 0, 1)\n",
    "\n",
    "# Create the individual operator to fill up an Individual instance:\n",
    "toolbox.register(\n",
    "    \"individualCreator\",\n",
    "    tools.initRepeat,\n",
    "    creator.Individual,\n",
    "    toolbox.zeroOrOne,\n",
    "    len(nsp),\n",
    ")\n",
    "\n",
    "# Create the population operator to generate a list of individuals:\n",
    "toolbox.register(\"populationCreator\", tools.initRepeat, list, toolbox.individualCreator)"
   ]
  },
  {
   "cell_type": "markdown",
   "id": "ba8aa794-982f-4036-b0e2-949c1659d3db",
   "metadata": {},
   "source": [
    "### 5.4. Initialize the genetic mechanisms"
   ]
  },
  {
   "cell_type": "markdown",
   "id": "03b6ead0-acad-4137-aa2d-8702f0360138",
   "metadata": {},
   "source": [
    "#### 5.4.1. Fitness calculation"
   ]
  },
  {
   "cell_type": "code",
   "execution_count": null,
   "id": "40b710fd-1cbf-4360-8443-a0d226fc4d3f",
   "metadata": {},
   "outputs": [],
   "source": [
    "def getCost(individual):\n",
    "    return (nsp.getCost(individual),)\n",
    "toolbox.register(\"evaluate\", getCost)"
   ]
  },
  {
   "cell_type": "markdown",
   "id": "56c14602-a1c2-4aba-844e-61e2bcb9df84",
   "metadata": {},
   "source": [
    "#### 5.4.2. Genetic operators"
   ]
  },
  {
   "cell_type": "code",
   "execution_count": null,
   "id": "f39b7989-572f-467e-8ef7-4f61110c3c33",
   "metadata": {},
   "outputs": [],
   "source": [
    "toolbox.register(\"select\", tools.selTournament, tournsize=2)\n",
    "toolbox.register(\"mate\", tools.cxTwoPoint)\n",
    "toolbox.register(\"mutate\", tools.mutFlipBit, indpb=1.0 / len(nsp))"
   ]
  },
  {
   "cell_type": "markdown",
   "id": "80467e6e-03e6-4400-b945-0c8f292ca736",
   "metadata": {},
   "source": [
    "### 5.5. Run the GA flow"
   ]
  },
  {
   "cell_type": "code",
   "execution_count": null,
   "id": "3040a662-fa6a-4cb1-9169-211a074a31df",
   "metadata": {},
   "outputs": [],
   "source": [
    "# create initial population (generation 0):\n",
    "population = toolbox.populationCreator(n=POPULATION_SIZE)\n",
    "\n",
    "# prepare the statistics object:\n",
    "stats = tools.Statistics(lambda ind: ind.fitness.values)\n",
    "stats.register(\"min\", numpy.min)\n",
    "stats.register(\"avg\", numpy.mean)\n",
    "\n",
    "# define the hall-of-fame object:\n",
    "hof = tools.HallOfFame(HALL_OF_FAME_SIZE)\n",
    "\n",
    "# perform the Genetic Algorithm flow with hof feature added:\n",
    "population, logbook = Elitism.eaSimpleWithElitism(\n",
    "    population,\n",
    "    toolbox,\n",
    "    cxpb=P_CROSSOVER,\n",
    "    mutpb=P_MUTATION,\n",
    "    ngen=MAX_GENERATIONS,\n",
    "    stats=stats,\n",
    "    halloffame=hof,\n",
    "    verbose=True,\n",
    ")\n",
    "\n",
    "# print best solution found:\n",
    "best = hof.items[0]"
   ]
  },
  {
   "cell_type": "markdown",
   "id": "fa0ebb33-acf7-4a23-b9ae-2f84d83ab542",
   "metadata": {},
   "source": [
    "### 5.6. Print the schedule"
   ]
  },
  {
   "cell_type": "code",
   "execution_count": null,
   "id": "1b4935b8-2c11-4787-9fcb-97791eebe794",
   "metadata": {},
   "outputs": [],
   "source": [
    "nsp.printScheduleInfo(best)"
   ]
  },
  {
   "cell_type": "markdown",
   "id": "ff8fbf3e-c160-4b86-a189-d88fdd7c20c1",
   "metadata": {},
   "source": [
    "### 5.7. Optimal solution"
   ]
  },
  {
   "cell_type": "code",
   "execution_count": null,
   "id": "0aa05bcc-789b-4354-b36c-f9c946bfdad6",
   "metadata": {},
   "outputs": [],
   "source": [
    "fitnesstmp = []\n",
    "for n in range(N):\n",
    "    tmp = 0\n",
    "    for d in range(D):\n",
    "        tmp += best[4*D*n + 4*d + 3]\n",
    "    fitnesstmp.append(tmp)\n",
    "\n",
    "maxNightShift = max(fitnesstmp)\n",
    "print('Optimal solution - Max night shift assigned to a nurse:', maxNightShift)"
   ]
  },
  {
   "cell_type": "code",
   "execution_count": null,
   "id": "98934e64-947b-469d-9063-180ff7b9b0a1",
   "metadata": {},
   "outputs": [],
   "source": []
  }
 ],
 "metadata": {
  "environment": {
   "kernel": "python3",
   "name": "common-cpu.m103",
   "type": "gcloud",
   "uri": "gcr.io/deeplearning-platform-release/base-cpu:m103"
  },
  "kernelspec": {
   "display_name": "Python 3",
   "language": "python",
   "name": "python3"
  },
  "language_info": {
   "codemirror_mode": {
    "name": "ipython",
    "version": 3
   },
   "file_extension": ".py",
   "mimetype": "text/x-python",
   "name": "python",
   "nbconvert_exporter": "python",
   "pygments_lexer": "ipython3",
   "version": "3.7.12"
  }
 },
 "nbformat": 4,
 "nbformat_minor": 5
}
