{
 "cells": [
  {
   "cell_type": "markdown",
   "id": "d7e37e12-02ab-4d14-9381-52cd1111dfdb",
   "metadata": {
    "tags": []
   },
   "source": [
    "### *IT3052E - Fundamentals of Optimization*\n",
    "# **Mini Project 18 - Nurse Scheduling Problem**\n",
    "#### **Techniques used**:\n",
    "* Greedy algorithm and Backtracking,\n",
    "* Constraint Programming,\n",
    "* Linear Programming,\n",
    "* Local Search\n",
    "* Heuristics, and\n",
    "* Meta-heuristics (Genetic Algorithm)."
   ]
  },
  {
   "cell_type": "markdown",
   "id": "46eb44de-a3b3-4f75-862a-0dc91fecf855",
   "metadata": {
    "tags": []
   },
   "source": [
    "#### * ***Import pandas for printing solution***"
   ]
  },
  {
   "cell_type": "code",
   "execution_count": null,
   "id": "7c884acf-ed29-4d9c-8824-6203bf67b888",
   "metadata": {
    "tags": []
   },
   "outputs": [],
   "source": [
    "import pandas as pd"
   ]
  },
  {
   "cell_type": "markdown",
   "id": "e9561799-5b72-4929-864c-521af3ab616a",
   "metadata": {
    "tags": []
   },
   "source": [
    "## 5. Genetic Algorithm"
   ]
  },
  {
   "cell_type": "markdown",
   "id": "61293381-620d-47d1-9069-9a3daf33a533",
   "metadata": {
    "tags": []
   },
   "source": [
    "### 5.1. Import modules and libraries"
   ]
  },
  {
   "cell_type": "code",
   "execution_count": 2,
   "id": "82832bae-fa65-47a8-a238-ba8d3bbed323",
   "metadata": {},
   "outputs": [],
   "source": [
    "from deap import base\n",
    "from deap import creator\n",
    "from deap import tools\n",
    "import random\n",
    "import numpy\n",
    "from GeneticAlgorithm import Elitism\n",
    "from GeneticAlgorithm import Initialization"
   ]
  },
  {
   "cell_type": "markdown",
   "id": "4812b294-368a-4718-8891-9456105a087c",
   "metadata": {
    "tags": []
   },
   "source": [
    "### 5.2. Read data from file"
   ]
  },
  {
   "cell_type": "markdown",
   "id": "f870b334-3436-476d-878b-65f7a9f5a1fc",
   "metadata": {
    "tags": []
   },
   "source": [
    "#### Read N, D, a, b and dayoff"
   ]
  },
  {
   "cell_type": "code",
   "execution_count": null,
   "id": "90b64d39-5d1f-432e-b2f0-793bcf98b829",
   "metadata": {},
   "outputs": [],
   "source": [
    "with open('/Users/ngocminhta/Optimization-NSP/SampleData/testCase1/0.txt') as file:\n",
    "  N, D, a, b = [int(q) for q in file.readline().split()]\n",
    "  dayoff = [[0 for d in range(D)] for n in range(N)]\n",
    "  for n in range(N):\n",
    "    for d in [int(h) for h in file.readline().split()]:\n",
    "      if d != -1:\n",
    "            dayoff[n][d-1] = 1"
   ]
  },
  {
   "cell_type": "markdown",
   "id": "062b8eda-0cac-46c0-93ff-9253f78eaedc",
   "metadata": {},
   "source": []
  }
 ],
 "metadata": {
  "kernelspec": {
   "display_name": "Python 3 (ipykernel)",
   "language": "python",
   "name": "python3"
  },
  "language_info": {
   "codemirror_mode": {
    "name": "ipython",
    "version": 3
   },
   "file_extension": ".py",
   "mimetype": "text/x-python",
   "name": "python",
   "nbconvert_exporter": "python",
   "pygments_lexer": "ipython3",
   "version": "3.9.12"
  }
 },
 "nbformat": 4,
 "nbformat_minor": 5
}
